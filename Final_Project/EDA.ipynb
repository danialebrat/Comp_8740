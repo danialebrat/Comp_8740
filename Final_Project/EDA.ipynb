{
 "cells": [
  {
   "cell_type": "code",
   "execution_count": 41,
   "id": "2a317b91",
   "metadata": {},
   "outputs": [],
   "source": [
    "import pandas as pd\n",
    "from pandas_profiling import ProfileReport\n",
    "import numpy as np"
   ]
  },
  {
   "cell_type": "code",
   "execution_count": 51,
   "id": "9df192a7",
   "metadata": {},
   "outputs": [],
   "source": [
    "# Path to the dataset files\n",
    "\n",
    "DATASET = 'D:/Canada/University of windsor/Comp-8740-Machine learning and pattern recognition/Final project/dataset/data.csv'\n",
    "LABELS = 'D:/Canada/University of windsor/Comp-8740-Machine learning and pattern recognition/Final project/dataset/labels.csv'\n"
   ]
  },
  {
   "cell_type": "code",
   "execution_count": 52,
   "id": "14978f76",
   "metadata": {},
   "outputs": [],
   "source": [
    "# Reading dataset\n",
    "\n",
    "data = pd.read_csv(DATASET)\n",
    "label = pd.read_csv(LABELS)\n",
    "\n",
    "x = data.iloc[:, 1:]\n",
    "y = label.iloc[:, 1:]\n"
   ]
  },
  {
   "cell_type": "code",
   "execution_count": 58,
   "id": "ab2f8f2e",
   "metadata": {
    "collapsed": true
   },
   "outputs": [
    {
     "name": "stderr",
     "output_type": "stream",
     "text": [
      "100%|████████████████████████████████████████████████████████████████████████████████████████████████████████████████████████████████| 10/10 [00:09<00:00,  1.03it/s]\n"
     ]
    }
   ],
   "source": [
    "from mrmr import mrmr_classif\n",
    "from sklearn.feature_selection import SelectKBest\n",
    "\n",
    "scores = mrmr_classif(x, y, K=10)\n",
    "  \n",
    "X = x[scores]\n"
   ]
  },
  {
   "cell_type": "code",
   "execution_count": 59,
   "id": "7aeb1cb2",
   "metadata": {},
   "outputs": [],
   "source": [
    "X = pd.DataFrame(X, columns = scores)\n",
    "\n",
    "dataset = pd.concat([X, y], axis=1)"
   ]
  },
  {
   "cell_type": "code",
   "execution_count": 60,
   "id": "76a049a5",
   "metadata": {},
   "outputs": [
    {
     "data": {
      "application/vnd.jupyter.widget-view+json": {
       "model_id": "87d674bf6d1e488e84eb0577599ec6e8",
       "version_major": 2,
       "version_minor": 0
      },
      "text/plain": [
       "Summarize dataset:   0%|          | 0/5 [00:00<?, ?it/s]"
      ]
     },
     "metadata": {},
     "output_type": "display_data"
    },
    {
     "data": {
      "application/vnd.jupyter.widget-view+json": {
       "model_id": "e036f4e3e8aa49b6a5c47bea43049d6a",
       "version_major": 2,
       "version_minor": 0
      },
      "text/plain": [
       "Generate report structure:   0%|          | 0/1 [00:00<?, ?it/s]"
      ]
     },
     "metadata": {},
     "output_type": "display_data"
    },
    {
     "data": {
      "application/vnd.jupyter.widget-view+json": {
       "model_id": "370f56c2c3db438e8ab991c9177cb756",
       "version_major": 2,
       "version_minor": 0
      },
      "text/plain": [
       "Render HTML:   0%|          | 0/1 [00:00<?, ?it/s]"
      ]
     },
     "metadata": {},
     "output_type": "display_data"
    },
    {
     "data": {
      "application/vnd.jupyter.widget-view+json": {
       "model_id": "746110a964bc4bc5960803135e41cde0",
       "version_major": 2,
       "version_minor": 0
      },
      "text/plain": [
       "Export report to file:   0%|          | 0/1 [00:00<?, ?it/s]"
      ]
     },
     "metadata": {},
     "output_type": "display_data"
    }
   ],
   "source": [
    "report = ProfileReport(dataset,\n",
    "                       plot={\"dpi\": 100},\n",
    "                       minimal=False\n",
    "                      )\n",
    "\n",
    "\n",
    "report.to_file(\"report.html\")\n"
   ]
  },
  {
   "cell_type": "code",
   "execution_count": null,
   "id": "574aa433",
   "metadata": {},
   "outputs": [],
   "source": []
  }
 ],
 "metadata": {
  "kernelspec": {
   "display_name": "Python 3 (ipykernel)",
   "language": "python",
   "name": "python3"
  },
  "language_info": {
   "codemirror_mode": {
    "name": "ipython",
    "version": 3
   },
   "file_extension": ".py",
   "mimetype": "text/x-python",
   "name": "python",
   "nbconvert_exporter": "python",
   "pygments_lexer": "ipython3",
   "version": "3.9.0"
  }
 },
 "nbformat": 4,
 "nbformat_minor": 5
}
