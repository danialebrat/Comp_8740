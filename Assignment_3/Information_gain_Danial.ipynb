{
  "cells": [
    {
      "cell_type": "markdown",
      "metadata": {
        "id": "view-in-github",
        "colab_type": "text"
      },
      "source": [
        "<a href=\"https://colab.research.google.com/github/danialebrat/Comp_8740/blob/master/Assignment_3/Information_gain_Danial.ipynb\" target=\"_parent\"><img src=\"https://colab.research.google.com/assets/colab-badge.svg\" alt=\"Open In Colab\"/></a>"
      ]
    },
    {
      "cell_type": "markdown",
      "id": "06cba1b7",
      "metadata": {
        "id": "06cba1b7"
      },
      "source": [
        "## Importing the libraries"
      ]
    },
    {
      "cell_type": "code",
      "source": [
        "from google.colab import drive\n",
        "drive.mount('/content/drive')"
      ],
      "metadata": {
        "id": "UzxPESAHwGa0",
        "outputId": "2b55348c-2b7d-4099-ddb2-81a2dd13031a",
        "colab": {
          "base_uri": "https://localhost:8080/"
        }
      },
      "id": "UzxPESAHwGa0",
      "execution_count": 2,
      "outputs": [
        {
          "output_type": "stream",
          "name": "stdout",
          "text": [
            "Drive already mounted at /content/drive; to attempt to forcibly remount, call drive.mount(\"/content/drive\", force_remount=True).\n"
          ]
        }
      ]
    },
    {
      "cell_type": "code",
      "source": [
        "pip install sklearn_evaluation"
      ],
      "metadata": {
        "id": "qkRhITppdMvo"
      },
      "id": "qkRhITppdMvo",
      "execution_count": null,
      "outputs": []
    },
    {
      "cell_type": "code",
      "source": [
        "pip install mrmr_selection"
      ],
      "metadata": {
        "id": "3mhDQgSI7QFU"
      },
      "id": "3mhDQgSI7QFU",
      "execution_count": null,
      "outputs": []
    },
    {
      "cell_type": "code",
      "execution_count": 5,
      "id": "c025922b",
      "metadata": {
        "id": "c025922b"
      },
      "outputs": [],
      "source": [
        "import numpy as np \n",
        "import matplotlib.pyplot as plt\n",
        "import pandas as pd\n",
        "import os\n",
        "os.environ['TF_CPP_MIN_LOG_LEVEL'] = '3'\n",
        "from sklearn.svm import SVC\n",
        "from sklearn.preprocessing import MinMaxScaler, LabelEncoder\n",
        "from sklearn.feature_selection import chi2, SelectPercentile, mutual_info_classif, SelectKBest\n",
        "from sklearn.metrics import confusion_matrix, accuracy_score, plot_confusion_matrix\n",
        "from sklearn.model_selection import StratifiedKFold, cross_val_score, train_test_split, GridSearchCV\n",
        "from sklearn import tree\n",
        "from sklearn.ensemble import RandomForestClassifier\n",
        "from sklearn.preprocessing import MinMaxScaler, LabelEncoder\n",
        "from tensorflow.keras.models import Sequential\n",
        "from tensorflow.keras.layers import Dense, Dropout\n",
        "from tensorflow.keras.wrappers.scikit_learn import KerasClassifier\n",
        "from sklearn.pipeline import Pipeline\n",
        "from sklearn_evaluation.plot import grid_search\n",
        "from mrmr import mrmr_classif"
      ]
    },
    {
      "cell_type": "code",
      "source": [
        "# Constant variables\n",
        "\n",
        "DATASET = \"/content/drive/MyDrive/Dataset/COMP_8740/Breastcancer_manual_upsampling.csv\"\n",
        "\n",
        "PLOT_PATH = \"/content/drive/MyDrive/Colab Notebooks/COMP_8740/Assignmet3/Plots/\"\n",
        "\n",
        "RESULT_PATH = \"/content/drive/MyDrive/Colab Notebooks/COMP_8740/Assignmet3/Results/\""
      ],
      "metadata": {
        "id": "Y1nUNAgL8m2I"
      },
      "id": "Y1nUNAgL8m2I",
      "execution_count": 17,
      "outputs": []
    },
    {
      "cell_type": "code",
      "source": [
        "class ML_Methods:\n",
        "\n",
        "    def __init__(self, name, dataset):\n",
        "        self.name = name\n",
        "        self.dataset = dataset\n",
        "\n",
        "\n",
        "    def preprocess(self, df):\n",
        "        \"\"\"\n",
        "        create x and y from a pandas dataframe\n",
        "        x, which are 2D point will be scaled using min-max scaler\n",
        "        :param dataframe:\n",
        "        :return (Scaled X (minmax), y):\n",
        "        \"\"\"\n",
        "\n",
        "        X = df.iloc[:, :-1].values\n",
        "        y = df.iloc[:, -1].values\n",
        "\n",
        "        scaler = MinMaxScaler()\n",
        "        x = scaler.fit_transform(X)\n",
        "\n",
        "        return x, y\n",
        "\n",
        "    def adding_methods(self):\n",
        "        \"\"\"\n",
        "        adding all the methods with their specific names in a list\n",
        "        :return: a List containing tuple of models (name of the model, model)\n",
        "        \"\"\"\n",
        "\n",
        "        Models = []\n",
        "\n",
        "        # models\n",
        "        Models.append(self.SVM_rbf())\n",
        "        Models.append(self.Random_Forest())\n",
        "        # Models.append(self.Deep_Neural_Network())\n",
        "\n",
        "        return Models\n",
        "\n",
        "\n",
        "    def Kfold_report(self, Models, x_train, y_train, dataset_name):\n",
        "        \"\"\"\n",
        "        training all the models from the list of models using 10 fold cross validation\n",
        "        :param x_train:\n",
        "        :param y_train:\n",
        "        :return:\n",
        "        \"\"\"\n",
        "\n",
        "        print(\"**********\")\n",
        "        print(\"{} Dataset Results: \".format(dataset_name))\n",
        "\n",
        "        results = []\n",
        "        method_names = []\n",
        "        for name, model in Models:\n",
        "            # train the models\n",
        "            KFold = StratifiedKFold(n_splits=10, random_state=1, shuffle=True)\n",
        "            CrossValidation = cross_val_score(model, x_train, y_train, cv=KFold, scoring='accuracy')\n",
        "            results.append(CrossValidation)\n",
        "            method_names.append(name)\n",
        "            print(f\"{name} Training Accuracy : {CrossValidation.mean()*100:.2f}%\")\n",
        "\n",
        "        return results, method_names\n",
        "\n",
        "\n",
        "    def training_models(self, Models, x_train, x_test, y_train, y_test, datasetname):\n",
        "\n",
        "        Results = []\n",
        "        for name, model in Models:\n",
        "            model.fit(x_train, y_train)\n",
        "            predicted = model.predict(x_test)\n",
        "            cm = confusion_matrix(y_test, predicted)\n",
        "            AS = accuracy_score(y_test, predicted)\n",
        "\n",
        "            Classifier, PPV, NPV, Sensitivity, Specificity, Testing_Accuracy = self.confusion_metrics(cm, AS, name, datasetname)\n",
        "            self.plotting_confusion_matrix(model, x_test, y_test, name)\n",
        "\n",
        "            Results.append([Classifier,\n",
        "                            PPV,\n",
        "                            NPV,\n",
        "                            Sensitivity,\n",
        "                            Specificity,\n",
        "                            Testing_Accuracy])\n",
        "\n",
        "        # Storing the result\n",
        "        self.storing_results(Results, datasetname)\n",
        "\n",
        "\n",
        "    def Random_Forest(self):\n",
        "        \"\"\"\n",
        "        create a Random_Forest classifier\n",
        "        :return (name of the mode, Random_Forest model):\n",
        "        \"\"\"\n",
        "        name = \"Random_Forest\"\n",
        "        RF_Model = RandomForestClassifier()\n",
        "        return (name, RF_Model)\n",
        "\n",
        "    \n",
        "    def SVM_rbf(self):\n",
        "      \"\"\"\n",
        "      create a SVM classifier\n",
        "      :return (name of the mode, QDA model):\n",
        "      \"\"\"\n",
        "      name = \"SVM_rbf\"\n",
        "      SVM_rbf_model = SVC(kernel = 'rbf', random_state = 42)\n",
        "      return(name, SVM_rbf_model)\n",
        "\n",
        "\n",
        "    def Keras_Deep_Neural_Network(self):\n",
        "        \"\"\"\n",
        "        create a Deep_Neural_Network classifier\n",
        "        \"\"\"\n",
        "\n",
        "        DNN_model = Sequential()\n",
        "\n",
        "        DNN_model.add(Dense(64, activation='relu', input_dim=204))\n",
        "        DNN_model.add(Dropout(0.1))\n",
        "        DNN_model.add(Dense(32, activation='relu'))\n",
        "        DNN_model.add(Dropout(0.2))\n",
        "        DNN_model.add(Dense(16, activation='relu'))\n",
        "        DNN_model.add(Dropout(0.2))\n",
        "        DNN_model.add(Dense(32, activation='relu'))\n",
        "        DNN_model.add(Dropout(0.2))\n",
        "        DNN_model.add(Dense(64, activation='relu'))\n",
        "        DNN_model.add(Dropout(0.3))\n",
        "\n",
        "        DNN_model.add(Dense(5, activation='softmax'))\n",
        "\n",
        "        DNN_model.compile(\n",
        "            optimizer='adam',\n",
        "            loss='sparse_categorical_crossentropy',\n",
        "            metrics=['accuracy']\n",
        "        )\n",
        "\n",
        "        return DNN_model\n",
        "\n",
        "\n",
        "    def Deep_Neural_Network(self):\n",
        "        \"\"\"\n",
        "        create a Deep_Neural_Network classifier\n",
        "        :return (name of the mode, Deep_Neural_Network model):\n",
        "        \"\"\"\n",
        "        name = \"Deep_Neural_Network\"\n",
        "\n",
        "        # Wrap Keras model so it can be used by scikit-learn\n",
        "        model = KerasClassifier(build_fn=self.Keras_Deep_Neural_Network,\n",
        "                                epochs=20,\n",
        "                                batch_size=16,\n",
        "                                verbose=0)\n",
        "\n",
        "        return (name, model)\n",
        "\n",
        "\n",
        "\n",
        "    def data_spliting(self, x, y, test_size=0.2, random_state=42):\n",
        "        \"\"\"\n",
        "        Split the data into x_train, x_test, y_train, y_test\n",
        "        :param x: x (data)\n",
        "        :param y: y (labels)\n",
        "        :param test_size: size of test dataset\n",
        "        :param random_state: 1 or 0\n",
        "        :return: x_train, x_test, y_train, y_test\n",
        "        \"\"\"\n",
        "        x_train, x_test, y_train, y_test = train_test_split(x, y, test_size=test_size, random_state=random_state)\n",
        "        return x_train, x_test, y_train, y_test\n",
        "\n",
        "    def plotting(self, results, names, dataset_name):\n",
        "\n",
        "        plt.figure(figsize=(12, 10))\n",
        "        boxplot = plt.boxplot(results, patch_artist=True, labels=names)\n",
        "\n",
        "\n",
        "        # fill with colors\n",
        "        colors = ['pink', 'lightblue', 'lightgreen', 'lime', 'grey']\n",
        "        for box, color in zip(boxplot['boxes'], colors):\n",
        "            box.set(color=color)\n",
        "\n",
        "        title = \"Classifiers Comparison _ {}\".format(dataset_name)\n",
        "        plt.title(title)\n",
        "\n",
        "        # saving the plots\n",
        "        fname = PLOT_PATH + title + \".png\"\n",
        "        plt.savefig(fname, dpi=100)\n",
        "        plt.close('all')\n",
        "\n",
        "\n",
        "    def confusion_metrics(self, cm, accuracy_score, method_name, dataset_name):\n",
        "\n",
        "        FP = cm.sum(axis=0) - np.diag(cm)  \n",
        "        FN = cm.sum(axis=1) - np.diag(cm)\n",
        "        TP = np.diag(cm)\n",
        "        TN = cm.sum() - (FP + FN + TP)\n",
        " \n",
        "        # Sensitivity, hit rate, recall, or true positive rate\n",
        "        TPR = TP/(TP+FN)\n",
        "        # Specificity or true negative rate\n",
        "        TNR = TN/(TN+FP) \n",
        "        # Precision or positive predictive value\n",
        "        PPV = TP/(TP+FP)\n",
        "        # Negative predictive value\n",
        "        NPV = TN/(TN+FN)\n",
        "        # Fall out or false positive rate\n",
        "        FPR = FP/(FP+TN)\n",
        "        # False negative rate\n",
        "        FNR = FN/(TP+FN)\n",
        "        # False discovery rate\n",
        "        FDR = FP/(TP+FP)\n",
        "\n",
        "        # Overall accuracy\n",
        "        ACC = (TP+TN)/(TP+FP+FN+TN)\n",
        "\n",
        "        avg_PPV  = np.average(PPV, axis=None, weights=None, returned=False)\n",
        "        avg_NPV  = np.average(NPV, axis=None, weights=None, returned=False)\n",
        "        avg_TPR  = np.average(TPR, axis=None, weights=None, returned=False)\n",
        "        avg_TNR  = np.average(TNR, axis=None, weights=None, returned=False)\n",
        "        avg_ACC  = np.average(ACC, axis=None, weights=None, returned=False)\n",
        "\n",
        "        # Accuracy for test set\n",
        "        accuracy = round(accuracy_score*100, 2)\n",
        "\n",
        "        print(\"**************\")\n",
        "        print(\"Classifier: {} _ Dataset: {}\".format(method_name, dataset_name))\n",
        "        print(\"PPV:{:.2f} | NPV:{:.2f} | Sensitivity:{:.2f} | Specificity:{:.2f} | Total_Accuracy:{:.2f}\".format(avg_PPV, avg_NPV, avg_TPR, avg_TNR, avg_ACC))\n",
        "        print(\"Accuracy Score for test_set: {:.2f} \".format(accuracy))\n",
        "\n",
        "        return method_name, avg_PPV, avg_NPV, avg_TPR, avg_TNR, accuracy\n",
        "\n",
        "\n",
        "\n",
        "    def plotting_confusion_matrix(self, model, x_test, y_test, name):\n",
        "      \n",
        "      plot_confusion_matrix(model, x_test, y_test)  \n",
        "      title = \"Confusion Matrix _ {}\".format(name)\n",
        "      plt.title(title)\n",
        "      plt.show()\n",
        "\n",
        "      # saving the plots\n",
        "      fname = PLOT_PATH + title + \".png\"\n",
        "      plt.savefig(fname, dpi=100)\n",
        "      plt.close('all')\n",
        "\n",
        "\n",
        "\n",
        "    def storing_results(self, Results , dataset_name):\n",
        "        \"\"\"\n",
        "        Storing the results in a csv file\n",
        "        :return:\n",
        "        \"\"\"\n",
        "\n",
        "        info = pd.DataFrame(Results, columns=['Classifier', 'PPV', 'NPV', 'Sensitivity', 'Specificity','Testing_Accuracy'])\n",
        "        self.store(info, dest=RESULT_PATH, name=dataset_name)\n",
        "\n",
        "\n",
        "    def store(self, df, dest, name):\n",
        "        \"\"\"\n",
        "        Storing the results as an excel file in a folder\n",
        "        :param dest:\n",
        "        :param name:\n",
        "        :return:\n",
        "        \"\"\"\n",
        "        path = dest + name + \".xlsx\"\n",
        "        df.to_excel(path)"
      ],
      "metadata": {
        "id": "OHin6fH77ZOT"
      },
      "id": "OHin6fH77ZOT",
      "execution_count": 24,
      "outputs": []
    },
    {
      "cell_type": "code",
      "source": [
        "def read_csv(file):\n",
        "  # read dataset csv as a Dataframe\n",
        "  df = pd.read_csv(file)\n",
        "  return df"
      ],
      "metadata": {
        "id": "s4JBooSR7Q7B"
      },
      "id": "s4JBooSR7Q7B",
      "execution_count": 25,
      "outputs": []
    },
    {
      "cell_type": "code",
      "source": [
        "def grid_search_tuning(Models, x_train, y_train):\n",
        "\n",
        "  for name, model in Models:\n",
        "    if name == \"SVM_rbf\":\n",
        "      \n",
        "      continue\n",
        "      C_range = [0.1, 0.2, 0.3, 0.4, 0.5, 0.6, 0.7, 0.8, 0.9, 1]\n",
        "      gamma_range = [0.1, 0.2, 0.3, 0.4, 0.5, 0.6, 0.7, 0.8, 0.9, 1]\n",
        "      degrees = range(3, 10, 2)\n",
        "      parameters = dict(gamma=gamma_range, C=C_range, degree=degrees)\n",
        "\n",
        "    else:\n",
        "      parameters = {\n",
        "          'max_features' : [7, 8, 9, 10, 12, 13, 14, 15, 20],\n",
        "          'n_estimators': [250, 300, 350, 400, 450, 500, 550],\n",
        "          }\n",
        "\n",
        "\n",
        "    grid = GridSearchCV(model, parameters, refit = True, verbose = 0)\n",
        "  \n",
        "    # fitting the model for grid search\n",
        "    grid.fit(x_train, y_train)\n",
        "\n",
        "\n",
        "    gs = GridSearchCV(estimator = model,\n",
        "                              param_grid = parameters,\n",
        "                              scoring = 'accuracy',\n",
        "                              cv = 10,\n",
        "                              refit = True,\n",
        "                              n_jobs = -1,\n",
        "                              verbose = 0)\n",
        "    \n",
        "    gs.fit(x_train, y_train)\n",
        "\n",
        "    if name == \"Random_Forest\":\n",
        "      grid_search(gs.cv_results_, change='max_features')\n",
        "      title = \"Progress of the GridSearch _ {}\".format(name)\n",
        "      plt.title(title)\n",
        "      plt.show()\n",
        "\n",
        "      # saving the plots\n",
        "      fname = PLOT_PATH + title + \".png\"\n",
        "      plt.savefig(fname, dpi=100)\n",
        "      plt.close('all')\n",
        "\n",
        "    best_accuracy = gs.best_score_\n",
        "    best_parameters = gs.best_params_\n",
        "\n",
        "    print(\"{} Classifies: ***** \".format(name))\n",
        "    print(\"Best Accuracy: {:.2f} %\".format(best_accuracy*100))\n",
        "    print(\"Best Parameters:\", best_parameters)"
      ],
      "metadata": {
        "id": "A2gXqZocJJN2"
      },
      "id": "A2gXqZocJJN2",
      "execution_count": 26,
      "outputs": []
    },
    {
      "cell_type": "code",
      "source": [
        "def feature_selection_Information_gain(x, y):\n",
        "\n",
        "  scores = mutual_info_classif(x,y)\n",
        "  \n",
        "  # p_values = pd.Series(scores)\n",
        "  # p_values.sort_values(ascending = False , inplace = True)\n",
        "  # p_values.plot.bar()\n",
        "  # plt.show()\n",
        "\n",
        "  X_new = SelectKBest(mutual_info_classif, k=100).fit_transform(x, y)\n",
        "  return X_new\n"
      ],
      "metadata": {
        "id": "98vgd2zOIUgS"
      },
      "id": "98vgd2zOIUgS",
      "execution_count": 27,
      "outputs": []
    },
    {
      "cell_type": "code",
      "source": [
        "def feature_selection_mrmr(X, y):\n",
        "  \n",
        "  X_new1 = pd.DataFrame(X, columns = X.columns)\n",
        "\n",
        "  scores = mrmr_classif(X_new1,y,K = 30)\n",
        "\n",
        "  X_new = X[scores]\n",
        "\n",
        "  # X_new = SelectKBest(mrmr_classif(X_new1,y,K = 25), k=25).fit_transform(X_new1, y)\n",
        "  \n",
        "  # p_values = pd.Series(X_new, index=scores)\n",
        "  # p_values.sort_values(ascending = False , inplace = True)\n",
        "  # p_values.plot.bar()\n",
        "  # title = \"Feature Selection _ MRMR\"\n",
        "  # plt.title(title)\n",
        "  # plt.show()\n",
        "\n",
        "  # # saving the plots\n",
        "  # fname = PLOT_PATH + title + \".png\"\n",
        "  # plt.savefig(fname, dpi=100)\n",
        "  # plt.show()\n",
        "  # plt.close('all')\n",
        "\n",
        "  return X_new"
      ],
      "metadata": {
        "id": "5VkY9nj7QKIx"
      },
      "id": "5VkY9nj7QKIx",
      "execution_count": 28,
      "outputs": []
    },
    {
      "cell_type": "code",
      "source": [
        "def feature_selection_ChiSquare(x, y):\n",
        "\n",
        "  scores = chi2(x,y)\n",
        "  \n",
        "  # p_values = pd.Series(scores)\n",
        "  # p_values.sort_values(ascending = False , inplace = True)\n",
        "  # p_values.plot.bar()\n",
        "  # plt.show()\n",
        "\n",
        "  X_new = SelectPercentile(chi2, percentile=85).fit_transform(x, y)\n",
        "\n",
        "  return X_new"
      ],
      "metadata": {
        "id": "dGWE4BJ_8XD7"
      },
      "id": "dGWE4BJ_8XD7",
      "execution_count": 29,
      "outputs": []
    },
    {
      "cell_type": "code",
      "source": [
        "if __name__ == \"__main__\":\n",
        "\n",
        "    name = \"Breast Cancer\"\n",
        "\n",
        "    # reading the data\n",
        "    Data = read_csv(DATASET)\n",
        "    \n",
        "    # creating and ML_method object for the dataset\n",
        "    method = ML_Methods(name=\"BreastCancer\", dataset=Data)\n",
        "    X, y = method.preprocess(Data)\n",
        "\n",
        "    # Applying feature selection\n",
        "    x_filtering  = feature_selection_ChiSquare(X, y)\n",
        "    x_filtering  = feature_selection_Information_gain(x_filtering, y)\n",
        "    x_filtering_df = pd.DataFrame(x_filtering)\n",
        "    x =  feature_selection_mrmr(x_filtering_df, y)\n",
        "\n",
        "    print('Original number of features:', X.shape)\n",
        "    print('Reduced number of features:', x.shape)\n",
        "\n",
        "    \n",
        "\n",
        "    # spliting the dataset\n",
        "    x_train, x_test, y_train, y_test = method.data_spliting(x, y)\n",
        "\n",
        "    # Adding methods:\n",
        "    Models = method.adding_methods()\n",
        "\n",
        "    # train the models and getting the results\n",
        "    results, method_name = method.Kfold_report(Models, x_train, y_train, name)\n",
        "\n",
        "    method.plotting(results, method_name, name)\n",
        "\n",
        "    method.training_models(Models, x_train, x_test, y_train, y_test, name)\n",
        "\n",
        "\n",
        "    print(\"******************************\")\n",
        "\n",
        "\n",
        "    grid_search_tuning(Models, x_train, y_train)\n",
        "\n",
        "\n"
      ],
      "metadata": {
        "id": "_pVD1f0gAjdc",
        "outputId": "c9642de4-dc18-469e-983e-5fa65ac86ad0",
        "colab": {
          "base_uri": "https://localhost:8080/",
          "height": 851
        }
      },
      "id": "_pVD1f0gAjdc",
      "execution_count": null,
      "outputs": [
        {
          "output_type": "stream",
          "name": "stderr",
          "text": [
            "100%|██████████| 30/30 [00:01<00:00, 21.57it/s]\n"
          ]
        },
        {
          "output_type": "stream",
          "name": "stdout",
          "text": [
            "Original number of features: (262, 13582)\n",
            "Reduced number of features: (262, 30)\n",
            "**********\n",
            "Breast Cancer Dataset Results: \n",
            "SVM_rbf Training Accuracy : 93.33%\n",
            "Random_Forest Training Accuracy : 94.76%\n",
            "**************\n",
            "Classifier: SVM_rbf _ Dataset: Breast Cancer\n",
            "PPV:0.96 | NPV:0.99 | Sensitivity:0.96 | Specificity:0.99 | Total_Accuracy:0.98\n",
            "Accuracy Score for test_set: 96.23 \n"
          ]
        },
        {
          "output_type": "display_data",
          "data": {
            "text/plain": [
              "<Figure size 432x288 with 2 Axes>"
            ],
            "image/png": "[encoded data removed]"
          },
          "metadata": {
            "needs_background": "light"
          }
        },
        {
          "output_type": "stream",
          "name": "stdout",
          "text": [
            "**************\n",
            "Classifier: Random_Forest _ Dataset: Breast Cancer\n",
            "PPV:0.89 | NPV:0.98 | Sensitivity:0.89 | Specificity:0.98 | Total_Accuracy:0.96\n",
            "Accuracy Score for test_set: 90.57 \n"
          ]
        },
        {
          "output_type": "display_data",
          "data": {
            "text/plain": [
              "<Figure size 432x288 with 2 Axes>"
            ],
            "image/png": "[encoded data removed]"
          },
          "metadata": {
            "needs_background": "light"
          }
        },
        {
          "output_type": "stream",
          "name": "stdout",
          "text": [
            "******************************\n"
          ]
        }
      ]
    },
    {
      "cell_type": "code",
      "source": [
        " "
      ],
      "metadata": {
        "id": "x7Z9-Z1n877B"
      },
      "id": "x7Z9-Z1n877B",
      "execution_count": null,
      "outputs": []
    }
  ],
  "metadata": {
    "colab": {
      "collapsed_sections": [],
      "provenance": [],
      "include_colab_link": true
    },
    "kernelspec": {
      "display_name": "Python 3.9.6 64-bit",
      "language": "python",
      "name": "python3"
    },
    "language_info": {
      "codemirror_mode": {
        "name": "ipython",
        "version": 3
      },
      "file_extension": ".py",
      "mimetype": "text/x-python",
      "name": "python",
      "nbconvert_exporter": "python",
      "pygments_lexer": "ipython3",
      "version": "3.9.6"
    },
    "vscode": {
      "interpreter": {
        "hash": "40b7c102bcf05e5897256ca18f96aa7dd41cd47c950cbadcdc11647e772909c2"
      }
    }
  },
  "nbformat": 4,
  "nbformat_minor": 5
}