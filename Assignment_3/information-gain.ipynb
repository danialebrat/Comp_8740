{
 "cells": [
  {
   "cell_type": "markdown",
   "id": "06cba1b7",
   "metadata": {
    "id": "06cba1b7"
   },
   "source": [
    "## Importing the libraries"
   ]
  },
  {
   "cell_type": "code",
   "execution_count": null,
   "id": "c025922b",
   "metadata": {
    "executionInfo": {
     "elapsed": 1108,
     "status": "ok",
     "timestamp": 1667359288897,
     "user": {
      "displayName": "Jasmin Patel",
      "userId": "13267304316818562887"
     },
     "user_tz": 240
    },
    "id": "c025922b"
   },
   "outputs": [],
   "source": [
    "import numpy as np \n",
    "import matplotlib.pyplot as plt\n",
    "import pandas as pd"
   ]
  },
  {
   "cell_type": "code",
   "execution_count": 2,
   "id": "g1OBE1a1XD2R",
   "metadata": {
    "colab": {
     "base_uri": "https://localhost:8080/"
    },
    "executionInfo": {
     "elapsed": 205,
     "status": "ok",
     "timestamp": 1667359336632,
     "user": {
      "displayName": "Jasmin Patel",
      "userId": "13267304316818562887"
     },
     "user_tz": 240
    },
    "id": "g1OBE1a1XD2R",
    "outputId": "78524033-ee21-4437-9bc7-b0c81604f198"
   },
   "outputs": [],
   "source": [
    "# import pathlib\n",
    "# pathlib.Path().resolve()"
   ]
  },
  {
   "cell_type": "code",
   "execution_count": 3,
   "id": "f65c3484",
   "metadata": {
    "executionInfo": {
     "elapsed": 1101,
     "status": "ok",
     "timestamp": 1667359337910,
     "user": {
      "displayName": "Jasmin Patel",
      "userId": "13267304316818562887"
     },
     "user_tz": 240
    },
    "id": "f65c3484"
   },
   "outputs": [],
   "source": [
    "dataset = pd.read_csv('./Datasets/Breastcancer.csv')\n",
    "X = dataset.iloc[:, :-1].values\n",
    "y = dataset.iloc[:, -1].values"
   ]
  },
  {
   "cell_type": "code",
   "execution_count": 4,
   "id": "28ae17b3",
   "metadata": {
    "colab": {
     "base_uri": "https://localhost:8080/"
    },
    "executionInfo": {
     "elapsed": 173,
     "status": "ok",
     "timestamp": 1667359341235,
     "user": {
      "displayName": "Jasmin Patel",
      "userId": "13267304316818562887"
     },
     "user_tz": 240
    },
    "id": "28ae17b3",
    "outputId": "99aef57e-5a6b-423f-9cfd-9d3d565f1b4c"
   },
   "outputs": [
    {
     "data": {
      "text/plain": [
       "(158, 13583)"
      ]
     },
     "execution_count": 4,
     "metadata": {},
     "output_type": "execute_result"
    }
   ],
   "source": [
    "dataset.shape"
   ]
  },
  {
   "cell_type": "markdown",
   "id": "669cd038",
   "metadata": {
    "id": "669cd038"
   },
   "source": [
    "## Taking care of missing data"
   ]
  },
  {
   "cell_type": "code",
   "execution_count": 5,
   "id": "2aec9c5a",
   "metadata": {
    "executionInfo": {
     "elapsed": 691,
     "status": "ok",
     "timestamp": 1667359344647,
     "user": {
      "displayName": "Jasmin Patel",
      "userId": "13267304316818562887"
     },
     "user_tz": 240
    },
    "id": "2aec9c5a"
   },
   "outputs": [],
   "source": [
    "from sklearn.impute import SimpleImputer\n",
    "imputer = SimpleImputer(missing_values=np.nan, strategy='mean')\n",
    "imputer.fit(X[:, :-1])\n",
    "X[:, :-1] = imputer.transform(X[:, :-1])"
   ]
  },
  {
   "cell_type": "code",
   "execution_count": 6,
   "id": "d3df4256",
   "metadata": {
    "colab": {
     "base_uri": "https://localhost:8080/"
    },
    "executionInfo": {
     "elapsed": 181,
     "status": "ok",
     "timestamp": 1667359345441,
     "user": {
      "displayName": "Jasmin Patel",
      "userId": "13267304316818562887"
     },
     "user_tz": 240
    },
    "id": "d3df4256",
    "outputId": "c7228bb8-77a1-4eab-d3e6-bbe3be3ebe8e"
   },
   "outputs": [
    {
     "name": "stdout",
     "output_type": "stream",
     "text": [
      "[[ 0.425 -0.316  0.465 ...  0.323 -0.4    0.064]\n",
      " [ 0.694 -0.497  0.2   ...  0.505 -0.275  0.3  ]\n",
      " [ 0.304 -0.205  0.739 ...  0.047 -0.98   0.233]\n",
      " ...\n",
      " [ 0.041  0.038  0.774 ...  0.298 -0.679  0.099]\n",
      " [ 0.139 -0.353  0.643 ... -0.144 -0.467  0.344]\n",
      " [-0.04   0.01   1.086 ...  1.654 -1.363  0.28 ]]\n"
     ]
    }
   ],
   "source": [
    "print(X)"
   ]
  },
  {
   "cell_type": "markdown",
   "id": "dac6d30f",
   "metadata": {
    "id": "dac6d30f"
   },
   "source": [
    "### Encoding the Dependent Variable"
   ]
  },
  {
   "cell_type": "code",
   "execution_count": 7,
   "id": "716a3d02",
   "metadata": {
    "executionInfo": {
     "elapsed": 10,
     "status": "ok",
     "timestamp": 1667359346957,
     "user": {
      "displayName": "Jasmin Patel",
      "userId": "13267304316818562887"
     },
     "user_tz": 240
    },
    "id": "716a3d02"
   },
   "outputs": [],
   "source": [
    "from sklearn.preprocessing import LabelEncoder\n",
    "le = LabelEncoder()\n",
    "y = le.fit_transform(y)"
   ]
  },
  {
   "cell_type": "code",
   "execution_count": 8,
   "id": "e7bfce96",
   "metadata": {
    "colab": {
     "base_uri": "https://localhost:8080/"
    },
    "executionInfo": {
     "elapsed": 16,
     "status": "ok",
     "timestamp": 1667359347500,
     "user": {
      "displayName": "Jasmin Patel",
      "userId": "13267304316818562887"
     },
     "user_tz": 240
    },
    "id": "e7bfce96",
    "outputId": "47d845de-c30a-46ed-8f2e-4f31014e0155"
   },
   "outputs": [
    {
     "name": "stdout",
     "output_type": "stream",
     "text": [
      "[0 0 0 0 0 0 0 0 0 0 0 0 0 0 0 0 0 0 0 0 0 0 0 0 0 0 0 0 0 0 0 0 0 0 0 0 0\n",
      " 0 0 1 1 1 1 1 1 1 1 1 1 1 1 1 1 1 1 1 1 1 1 1 1 2 2 2 2 2 2 2 2 2 2 2 2 2\n",
      " 2 2 2 2 2 2 2 2 2 2 2 2 2 2 2 2 2 2 2 2 2 2 2 2 2 2 2 2 2 2 2 2 2 2 2 2 2\n",
      " 2 2 2 3 3 3 3 3 3 3 3 3 3 3 3 3 3 3 3 3 3 3 3 3 3 3 3 3 3 3 3 3 3 3 4 4 4\n",
      " 4 4 4 4 4 4 4 4 4 4]\n"
     ]
    }
   ],
   "source": [
    "print(y)"
   ]
  },
  {
   "cell_type": "markdown",
   "id": "196504c5",
   "metadata": {
    "id": "196504c5"
   },
   "source": [
    "### Min-Max scaling"
   ]
  },
  {
   "cell_type": "code",
   "execution_count": 9,
   "id": "8ddd7477",
   "metadata": {
    "executionInfo": {
     "elapsed": 3,
     "status": "ok",
     "timestamp": 1667359348581,
     "user": {
      "displayName": "Jasmin Patel",
      "userId": "13267304316818562887"
     },
     "user_tz": 240
    },
    "id": "8ddd7477"
   },
   "outputs": [],
   "source": [
    "from sklearn import preprocessing\n",
    "min_max_scaler = preprocessing.MinMaxScaler()\n",
    "X_train_minmax = min_max_scaler.fit_transform(X)"
   ]
  },
  {
   "cell_type": "markdown",
   "id": "24200f2b",
   "metadata": {
    "id": "24200f2b"
   },
   "source": [
    "### Information gain feature selection"
   ]
  },
  {
   "cell_type": "code",
   "execution_count": 10,
   "id": "ae9ae962",
   "metadata": {
    "executionInfo": {
     "elapsed": 4,
     "status": "ok",
     "timestamp": 1667359350152,
     "user": {
      "displayName": "Jasmin Patel",
      "userId": "13267304316818562887"
     },
     "user_tz": 240
    },
    "id": "ae9ae962"
   },
   "outputs": [],
   "source": [
    "from sklearn.feature_selection import mutual_info_classif"
   ]
  },
  {
   "cell_type": "code",
   "execution_count": 11,
   "id": "66e855e3",
   "metadata": {
    "executionInfo": {
     "elapsed": 64633,
     "status": "ok",
     "timestamp": 1667359415089,
     "user": {
      "displayName": "Jasmin Patel",
      "userId": "13267304316818562887"
     },
     "user_tz": 240
    },
    "id": "66e855e3"
   },
   "outputs": [],
   "source": [
    "importances = mutual_info_classif(X_train_minmax, y)\n",
    "feat_importances = pd.Series(importances, dataset.columns[0:len(dataset.columns)-1])"
   ]
  },
  {
   "cell_type": "code",
   "execution_count": 12,
   "id": "d68ba0a1",
   "metadata": {
    "colab": {
     "base_uri": "https://localhost:8080/",
     "height": 580
    },
    "executionInfo": {
     "elapsed": 9638,
     "status": "error",
     "timestamp": 1667359424700,
     "user": {
      "displayName": "Jasmin Patel",
      "userId": "13267304316818562887"
     },
     "user_tz": 240
    },
    "id": "d68ba0a1",
    "outputId": "a8157edd-8bb7-473e-e319-014fb6b8658a"
   },
   "outputs": [
    {
     "data": {
      "image/png": "[encoded data removed]",
      "text/plain": [
       "<Figure size 432x288 with 1 Axes>"
      ]
     },
     "metadata": {
      "needs_background": "light"
     },
     "output_type": "display_data"
    }
   ],
   "source": [
    "feat_importances.plot(kind='barh', color='red')\n",
    "plt.show()\n",
    "# This will take time to run, so be patient or comment it out as it's just a graph"
   ]
  },
  {
   "cell_type": "code",
   "execution_count": 13,
   "id": "bd8b3a48",
   "metadata": {
    "executionInfo": {
     "elapsed": 158,
     "status": "ok",
     "timestamp": 1667359429135,
     "user": {
      "displayName": "Jasmin Patel",
      "userId": "13267304316818562887"
     },
     "user_tz": 240
    },
    "id": "bd8b3a48"
   },
   "outputs": [],
   "source": [
    "X = dataset.drop('Class',axis=1)\n",
    "y = dataset['Class']"
   ]
  },
  {
   "cell_type": "code",
   "execution_count": 14,
   "id": "95bee604",
   "metadata": {
    "colab": {
     "base_uri": "https://localhost:8080/"
    },
    "executionInfo": {
     "elapsed": 180,
     "status": "ok",
     "timestamp": 1667359431004,
     "user": {
      "displayName": "Jasmin Patel",
      "userId": "13267304316818562887"
     },
     "user_tz": 240
    },
    "id": "95bee604",
    "outputId": "bb644a28-d2a5-48bd-dda3-751aaaff916e",
    "scrolled": true
   },
   "outputs": [
    {
     "name": "stdout",
     "output_type": "stream",
     "text": [
      "0       Basal\n",
      "1       Basal\n",
      "2       Basal\n",
      "3       Basal\n",
      "4       Basal\n",
      "        ...  \n",
      "153    Normal\n",
      "154    Normal\n",
      "155    Normal\n",
      "156    Normal\n",
      "157    Normal\n",
      "Name: Class, Length: 158, dtype: object\n",
      "['Basal' 'Her2' 'LumA' 'LumB' 'Normal']\n"
     ]
    }
   ],
   "source": [
    "print(y)\n",
    "print(y.unique())"
   ]
  },
  {
   "cell_type": "code",
   "execution_count": 15,
   "id": "6ab56992",
   "metadata": {
    "executionInfo": {
     "elapsed": 167,
     "status": "ok",
     "timestamp": 1667359433057,
     "user": {
      "displayName": "Jasmin Patel",
      "userId": "13267304316818562887"
     },
     "user_tz": 240
    },
    "id": "6ab56992"
   },
   "outputs": [],
   "source": [
    "from sklearn.feature_selection import SelectKBest"
   ]
  },
  {
   "cell_type": "code",
   "execution_count": 16,
   "id": "ec3bb619",
   "metadata": {
    "colab": {
     "base_uri": "https://localhost:8080/"
    },
    "executionInfo": {
     "elapsed": 61345,
     "status": "ok",
     "timestamp": 1667359495576,
     "user": {
      "displayName": "Jasmin Patel",
      "userId": "13267304316818562887"
     },
     "user_tz": 240
    },
    "id": "ec3bb619",
    "outputId": "22a8d415-4022-447c-b178-9cb5d2deaf1a"
   },
   "outputs": [
    {
     "name": "stdout",
     "output_type": "stream",
     "text": [
      "[[0.15244293 0.70728291 0.15461672 ... 0.92623815 0.02029447 0.16934932]\n",
      " [0.09867719 0.49789916 0.13937282 ... 0.61222339 0.53243136 0.09434932]\n",
      " [0.08118199 0.92950514 0.2158101  ... 0.43238497 0.53521687 0.14537671]\n",
      " ...\n",
      " [0.59409004 0.86741363 0.42857143 ... 0.38180541 0.30362117 0.48202055]\n",
      " [0.37177299 0.36671335 0.50261324 ... 0.4116614  0.11619578 0.4744863 ]\n",
      " [0.41263068 0.67553688 0.41093206 ... 0.97541272 0.31078392 0.50325342]]\n"
     ]
    }
   ],
   "source": [
    "cols_selector = SelectKBest(mutual_info_classif, k=300)\n",
    "X_kbest = cols_selector.fit_transform(X_train_minmax, y)\n",
    "print(X_kbest)"
   ]
  },
  {
   "cell_type": "code",
   "execution_count": 17,
   "id": "472f0b33",
   "metadata": {
    "colab": {
     "base_uri": "https://localhost:8080/"
    },
    "executionInfo": {
     "elapsed": 176,
     "status": "ok",
     "timestamp": 1667359497421,
     "user": {
      "displayName": "Jasmin Patel",
      "userId": "13267304316818562887"
     },
     "user_tz": 240
    },
    "id": "472f0b33",
    "outputId": "768ad2a5-71b7-457d-cbaf-c8b1c5a55daf"
   },
   "outputs": [
    {
     "name": "stdout",
     "output_type": "stream",
     "text": [
      "Original number of features: (158, 13582)\n",
      "Reduced number of features: (158, 300)\n"
     ]
    }
   ],
   "source": [
    "print('Original number of features:', X.shape)\n",
    "print('Reduced number of features:', X_kbest.shape)"
   ]
  },
  {
   "cell_type": "markdown",
   "id": "54405948",
   "metadata": {
    "id": "54405948"
   },
   "source": [
    "### SVM with rbf kernel"
   ]
  },
  {
   "cell_type": "code",
   "execution_count": 18,
   "id": "92a6f79d",
   "metadata": {
    "executionInfo": {
     "elapsed": 177,
     "status": "ok",
     "timestamp": 1667359500706,
     "user": {
      "displayName": "Jasmin Patel",
      "userId": "13267304316818562887"
     },
     "user_tz": 240
    },
    "id": "92a6f79d"
   },
   "outputs": [],
   "source": [
    "from sklearn.model_selection import train_test_split\n",
    "X_train, X_test, y_train, y_test = train_test_split(X_kbest, y, test_size = 0.2, random_state = 42)"
   ]
  },
  {
   "cell_type": "code",
   "execution_count": 19,
   "id": "f5dc4267",
   "metadata": {
    "colab": {
     "base_uri": "https://localhost:8080/"
    },
    "executionInfo": {
     "elapsed": 9,
     "status": "ok",
     "timestamp": 1667359503707,
     "user": {
      "displayName": "Jasmin Patel",
      "userId": "13267304316818562887"
     },
     "user_tz": 240
    },
    "id": "f5dc4267",
    "outputId": "6263e872-8234-49bc-b499-dd103537a715"
   },
   "outputs": [
    {
     "data": {
      "text/plain": [
       "SVC(decision_function_shape='ovo', random_state=42)"
      ]
     },
     "execution_count": 19,
     "metadata": {},
     "output_type": "execute_result"
    }
   ],
   "source": [
    "from sklearn.svm import SVC\n",
    "classifier = SVC(kernel = 'rbf', random_state = 42, decision_function_shape='ovo')\n",
    "classifier.fit(X_train, y_train)"
   ]
  },
  {
   "cell_type": "code",
   "execution_count": 20,
   "id": "d45fb687",
   "metadata": {
    "colab": {
     "base_uri": "https://localhost:8080/"
    },
    "executionInfo": {
     "elapsed": 13,
     "status": "ok",
     "timestamp": 1667359504353,
     "user": {
      "displayName": "Jasmin Patel",
      "userId": "13267304316818562887"
     },
     "user_tz": 240
    },
    "id": "d45fb687",
    "outputId": "874362f4-4440-43b2-83a0-7f300cc7e917"
   },
   "outputs": [
    {
     "name": "stdout",
     "output_type": "stream",
     "text": [
      "[[9 0 0 0 0]\n",
      " [0 3 0 0 0]\n",
      " [0 0 9 0 1]\n",
      " [0 0 1 5 0]\n",
      " [0 2 0 0 2]]\n",
      "0.875\n"
     ]
    }
   ],
   "source": [
    "from sklearn.metrics import confusion_matrix, accuracy_score\n",
    "y_pred = classifier.predict(X_test)\n",
    "cm = confusion_matrix(y_test, y_pred)\n",
    "print(cm)\n",
    "print(accuracy_score(y_test, y_pred))"
   ]
  },
  {
   "cell_type": "markdown",
   "id": "d443a79a",
   "metadata": {
    "id": "d443a79a"
   },
   "source": [
    "### 10-fold cross validation"
   ]
  },
  {
   "cell_type": "code",
   "execution_count": 21,
   "id": "7d0e7092",
   "metadata": {
    "colab": {
     "base_uri": "https://localhost:8080/"
    },
    "executionInfo": {
     "elapsed": 158,
     "status": "ok",
     "timestamp": 1667359506504,
     "user": {
      "displayName": "Jasmin Patel",
      "userId": "13267304316818562887"
     },
     "user_tz": 240
    },
    "id": "7d0e7092",
    "outputId": "51f41a2c-941e-47d1-95af-2c7aa2525512"
   },
   "outputs": [
    {
     "name": "stdout",
     "output_type": "stream",
     "text": [
      "Accuracy: 87.18 %\n",
      "Standard Deviation: 7.71 %\n"
     ]
    },
    {
     "name": "stderr",
     "output_type": "stream",
     "text": [
      "c:\\users\\farha\\appdata\\local\\programs\\python\\python39\\lib\\site-packages\\sklearn\\model_selection\\_split.py:676: UserWarning: The least populated class in y has only 9 members, which is less than n_splits=10.\n",
      "  warnings.warn(\n"
     ]
    }
   ],
   "source": [
    "from sklearn.model_selection import cross_val_score\n",
    "accuracies = cross_val_score(estimator = classifier, X = X_train, y = y_train, cv = 10)\n",
    "print(\"Accuracy: {:.2f} %\".format(accuracies.mean()*100))\n",
    "print(\"Standard Deviation: {:.2f} %\".format(accuracies.std()*100))"
   ]
  },
  {
   "cell_type": "markdown",
   "id": "526f8c32",
   "metadata": {
    "id": "526f8c32"
   },
   "source": [
    "### Metrics calculation"
   ]
  },
  {
   "cell_type": "code",
   "execution_count": 22,
   "id": "tQu7CVH_Xwwh",
   "metadata": {
    "colab": {
     "base_uri": "https://localhost:8080/"
    },
    "executionInfo": {
     "elapsed": 154,
     "status": "ok",
     "timestamp": 1667359516927,
     "user": {
      "displayName": "Jasmin Patel",
      "userId": "13267304316818562887"
     },
     "user_tz": 240
    },
    "id": "tQu7CVH_Xwwh",
    "outputId": "25184c71-fbc5-46e5-afb1-b0134e006bdd"
   },
   "outputs": [
    {
     "name": "stdout",
     "output_type": "stream",
     "text": [
      "[0 2 1 0 1]\n",
      "[0 0 1 1 2]\n",
      "[9 3 9 5 2]\n",
      "[23 27 21 26 27]\n"
     ]
    }
   ],
   "source": [
    "FP = cm.sum(axis=0) - np.diag(cm)  \n",
    "FN = cm.sum(axis=1) - np.diag(cm)\n",
    "TP = np.diag(cm)\n",
    "TN = cm.sum() - (FP + FN + TP)\n",
    "\n",
    "print(FP)\n",
    "print(FN)\n",
    "print(TP)\n",
    "print(TN)\n",
    "\n"
   ]
  },
  {
   "cell_type": "code",
   "execution_count": 23,
   "id": "mHtHyAPHX1U1",
   "metadata": {
    "executionInfo": {
     "elapsed": 6,
     "status": "ok",
     "timestamp": 1667359531958,
     "user": {
      "displayName": "Jasmin Patel",
      "userId": "13267304316818562887"
     },
     "user_tz": 240
    },
    "id": "mHtHyAPHX1U1"
   },
   "outputs": [],
   "source": [
    "# Sensitivity, hit rate, recall, or true positive rate\n",
    "TPR = TP/(TP+FN)\n",
    "# Specificity or true negative rate\n",
    "TNR = TN/(TN+FP) \n",
    "# Precision or positive predictive value\n",
    "PPV = TP/(TP+FP)\n",
    "# Negative predictive value\n",
    "NPV = TN/(TN+FN)\n",
    "# Fall out or false positive rate\n",
    "FPR = FP/(FP+TN)\n",
    "# False negative rate\n",
    "FNR = FN/(TP+FN)\n",
    "# False discovery rate\n",
    "FDR = FP/(TP+FP)\n",
    "\n",
    "# Overall accuracy\n",
    "ACC = (TP+TN)/(TP+FP+FN+TN)\n"
   ]
  },
  {
   "cell_type": "code",
   "execution_count": 25,
   "id": "d8838dce",
   "metadata": {
    "id": "d8838dce"
   },
   "outputs": [
    {
     "name": "stdout",
     "output_type": "stream",
     "text": [
      "PPV:0.83\n",
      "NPV:0.97\n",
      "Sensitivity:0.85\n",
      "Specificity:0.97\n",
      "Accuracy:0.95\n"
     ]
    }
   ],
   "source": [
    "avg_PPV  = np.average(PPV, axis=None, weights=None, returned=False)\n",
    "avg_NPV  = np.average(NPV, axis=None, weights=None, returned=False)\n",
    "avg_TPR  = np.average(TPR, axis=None, weights=None, returned=False)\n",
    "avg_TNR  = np.average(TNR, axis=None, weights=None, returned=False)\n",
    "avg_ACC  = np.average(ACC, axis=None, weights=None, returned=False)\n",
    "print(\"PPV:{:.2f}\\nNPV:{:.2f}\\nSensitivity:{:.2f}\\nSpecificity:{:.2f}\\nAccuracy:{:.2f}\".format(avg_PPV, avg_NPV, avg_TPR, avg_TNR, avg_ACC))"
   ]
  }
 ],
 "metadata": {
  "colab": {
   "collapsed_sections": [],
   "provenance": []
  },
  "kernelspec": {
   "display_name": "Python 3.9.6 64-bit",
   "language": "python",
   "name": "python3"
  },
  "language_info": {
   "codemirror_mode": {
    "name": "ipython",
    "version": 3
   },
   "file_extension": ".py",
   "mimetype": "text/x-python",
   "name": "python",
   "nbconvert_exporter": "python",
   "pygments_lexer": "ipython3",
   "version": "3.9.6"
  },
  "vscode": {
   "interpreter": {
    "hash": "40b7c102bcf05e5897256ca18f96aa7dd41cd47c950cbadcdc11647e772909c2"
   }
  }
 },
 "nbformat": 4,
 "nbformat_minor": 5
}
