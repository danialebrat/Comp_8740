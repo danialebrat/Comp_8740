{
 "cells": [
  {
   "cell_type": "markdown",
   "id": "06cba1b7",
   "metadata": {
    "id": "06cba1b7"
   },
   "source": [
    "## Importing the libraries"
   ]
  },
  {
   "cell_type": "code",
   "execution_count": 1,
   "id": "c025922b",
   "metadata": {
    "executionInfo": {
     "elapsed": 415,
     "status": "ok",
     "timestamp": 1667355517647,
     "user": {
      "displayName": "Jasmin Patel",
      "userId": "13267304316818562887"
     },
     "user_tz": 240
    },
    "id": "c025922b"
   },
   "outputs": [],
   "source": [
    "import numpy as np \n",
    "import matplotlib.pyplot as plt\n",
    "import pandas as pd"
   ]
  },
  {
   "cell_type": "code",
   "execution_count": 2,
   "id": "CCSUkQTKh452",
   "metadata": {
    "colab": {
     "base_uri": "https://localhost:8080/"
    },
    "executionInfo": {
     "elapsed": 212,
     "status": "ok",
     "timestamp": 1667355518815,
     "user": {
      "displayName": "Jasmin Patel",
      "userId": "13267304316818562887"
     },
     "user_tz": 240
    },
    "id": "CCSUkQTKh452",
    "outputId": "ac9cdcc9-0d76-4944-a0da-5b1eaf670e98"
   },
   "outputs": [],
   "source": [
    "# import pathlib\n",
    "# pathlib.Path().resolve()"
   ]
  },
  {
   "cell_type": "code",
   "execution_count": 2,
   "id": "f65c3484",
   "metadata": {
    "executionInfo": {
     "elapsed": 937,
     "status": "ok",
     "timestamp": 1667358484725,
     "user": {
      "displayName": "Jasmin Patel",
      "userId": "13267304316818562887"
     },
     "user_tz": 240
    },
    "id": "f65c3484"
   },
   "outputs": [],
   "source": [
    "dataset = pd.read_csv('./Datasets/Breastcancer.csv')\n",
    "dataset.replace([np.inf, -np.inf], np.nan, inplace=True)\n",
    "\n",
    "X = dataset.iloc[:, :-1].values\n",
    "y = dataset.iloc[:, -1].values"
   ]
  },
  {
   "cell_type": "code",
   "execution_count": 3,
   "id": "28ae17b3",
   "metadata": {
    "colab": {
     "base_uri": "https://localhost:8080/"
    },
    "executionInfo": {
     "elapsed": 170,
     "status": "ok",
     "timestamp": 1667358486074,
     "user": {
      "displayName": "Jasmin Patel",
      "userId": "13267304316818562887"
     },
     "user_tz": 240
    },
    "id": "28ae17b3",
    "outputId": "33b12176-edd7-4441-857f-b45101f925f5"
   },
   "outputs": [
    {
     "data": {
      "text/plain": [
       "(158, 13583)"
      ]
     },
     "execution_count": 3,
     "metadata": {},
     "output_type": "execute_result"
    }
   ],
   "source": [
    "dataset.shape"
   ]
  },
  {
   "cell_type": "markdown",
   "id": "669cd038",
   "metadata": {
    "id": "669cd038"
   },
   "source": [
    "## Taking care of missing data"
   ]
  },
  {
   "cell_type": "code",
   "execution_count": 5,
   "id": "2aec9c5a",
   "metadata": {
    "executionInfo": {
     "elapsed": 242,
     "status": "ok",
     "timestamp": 1667358486949,
     "user": {
      "displayName": "Jasmin Patel",
      "userId": "13267304316818562887"
     },
     "user_tz": 240
    },
    "id": "2aec9c5a"
   },
   "outputs": [],
   "source": [
    "from sklearn.impute import SimpleImputer\n",
    "imputer = SimpleImputer(missing_values=np.nan, strategy='mean')\n",
    "imputer.fit(X[:, :-1])\n",
    "X[:, :-1] = imputer.transform(X[:, :-1])"
   ]
  },
  {
   "cell_type": "code",
   "execution_count": 6,
   "id": "d3df4256",
   "metadata": {
    "colab": {
     "base_uri": "https://localhost:8080/"
    },
    "executionInfo": {
     "elapsed": 9,
     "status": "ok",
     "timestamp": 1667358487165,
     "user": {
      "displayName": "Jasmin Patel",
      "userId": "13267304316818562887"
     },
     "user_tz": 240
    },
    "id": "d3df4256",
    "outputId": "65217e53-d728-4a2f-bd07-4c2b4433d35f"
   },
   "outputs": [
    {
     "name": "stdout",
     "output_type": "stream",
     "text": [
      "[[ 0.425 -0.316  0.465 ...  0.323 -0.4    0.064]\n",
      " [ 0.694 -0.497  0.2   ...  0.505 -0.275  0.3  ]\n",
      " [ 0.304 -0.205  0.739 ...  0.047 -0.98   0.233]\n",
      " ...\n",
      " [ 0.041  0.038  0.774 ...  0.298 -0.679  0.099]\n",
      " [ 0.139 -0.353  0.643 ... -0.144 -0.467  0.344]\n",
      " [-0.04   0.01   1.086 ...  1.654 -1.363  0.28 ]]\n"
     ]
    }
   ],
   "source": [
    "print(X)"
   ]
  },
  {
   "cell_type": "markdown",
   "id": "dac6d30f",
   "metadata": {
    "id": "dac6d30f"
   },
   "source": [
    "### Encoding the Dependent Variable"
   ]
  },
  {
   "cell_type": "code",
   "execution_count": 7,
   "id": "716a3d02",
   "metadata": {
    "executionInfo": {
     "elapsed": 176,
     "status": "ok",
     "timestamp": 1667358488148,
     "user": {
      "displayName": "Jasmin Patel",
      "userId": "13267304316818562887"
     },
     "user_tz": 240
    },
    "id": "716a3d02"
   },
   "outputs": [],
   "source": [
    "from sklearn.preprocessing import LabelEncoder\n",
    "le = LabelEncoder()\n",
    "y = le.fit_transform(y)"
   ]
  },
  {
   "cell_type": "code",
   "execution_count": 8,
   "id": "e7bfce96",
   "metadata": {
    "colab": {
     "base_uri": "https://localhost:8080/"
    },
    "executionInfo": {
     "elapsed": 12,
     "status": "ok",
     "timestamp": 1667358488710,
     "user": {
      "displayName": "Jasmin Patel",
      "userId": "13267304316818562887"
     },
     "user_tz": 240
    },
    "id": "e7bfce96",
    "outputId": "6f599637-eb87-43a0-856d-6e7ad6614b5d"
   },
   "outputs": [
    {
     "name": "stdout",
     "output_type": "stream",
     "text": [
      "[0 0 0 0 0 0 0 0 0 0 0 0 0 0 0 0 0 0 0 0 0 0 0 0 0 0 0 0 0 0 0 0 0 0 0 0 0\n",
      " 0 0 1 1 1 1 1 1 1 1 1 1 1 1 1 1 1 1 1 1 1 1 1 1 2 2 2 2 2 2 2 2 2 2 2 2 2\n",
      " 2 2 2 2 2 2 2 2 2 2 2 2 2 2 2 2 2 2 2 2 2 2 2 2 2 2 2 2 2 2 2 2 2 2 2 2 2\n",
      " 2 2 2 3 3 3 3 3 3 3 3 3 3 3 3 3 3 3 3 3 3 3 3 3 3 3 3 3 3 3 3 3 3 3 4 4 4\n",
      " 4 4 4 4 4 4 4 4 4 4]\n"
     ]
    }
   ],
   "source": [
    "print(y)"
   ]
  },
  {
   "cell_type": "markdown",
   "id": "196504c5",
   "metadata": {
    "id": "196504c5"
   },
   "source": [
    "### Min-Max scaling"
   ]
  },
  {
   "cell_type": "code",
   "execution_count": 9,
   "id": "8ddd7477",
   "metadata": {
    "executionInfo": {
     "elapsed": 177,
     "status": "ok",
     "timestamp": 1667358489717,
     "user": {
      "displayName": "Jasmin Patel",
      "userId": "13267304316818562887"
     },
     "user_tz": 240
    },
    "id": "8ddd7477"
   },
   "outputs": [],
   "source": [
    "from sklearn import preprocessing\n",
    "min_max_scaler = preprocessing.MinMaxScaler()\n",
    "X_train_minmax = min_max_scaler.fit_transform(X)"
   ]
  },
  {
   "cell_type": "markdown",
   "id": "24200f2b",
   "metadata": {
    "id": "24200f2b"
   },
   "source": [
    "### Chi-square feature selection"
   ]
  },
  {
   "cell_type": "code",
   "execution_count": 10,
   "id": "ae9ae962",
   "metadata": {
    "executionInfo": {
     "elapsed": 152,
     "status": "ok",
     "timestamp": 1667358494474,
     "user": {
      "displayName": "Jasmin Patel",
      "userId": "13267304316818562887"
     },
     "user_tz": 240
    },
    "id": "ae9ae962"
   },
   "outputs": [],
   "source": [
    "from sklearn.feature_selection import chi2"
   ]
  },
  {
   "cell_type": "code",
   "execution_count": 11,
   "id": "66e855e3",
   "metadata": {
    "colab": {
     "base_uri": "https://localhost:8080/"
    },
    "executionInfo": {
     "elapsed": 10,
     "status": "ok",
     "timestamp": 1667358495652,
     "user": {
      "displayName": "Jasmin Patel",
      "userId": "13267304316818562887"
     },
     "user_tz": 240
    },
    "id": "66e855e3",
    "outputId": "5c6e8114-fba1-42d5-9a25-a9fab70f375b"
   },
   "outputs": [
    {
     "name": "stdout",
     "output_type": "stream",
     "text": [
      "(array([0.56288441, 0.36218066, 0.54701439, ..., 0.54502882, 0.82407793,\n",
      "       0.06101989]), array([0.96709743, 0.98545451, 0.96876566, ..., 0.96897195, 0.93519124,\n",
      "       0.99954393]))\n"
     ]
    }
   ],
   "source": [
    "chi_scores = chi2(X_train_minmax,y)\n",
    "print(chi_scores)"
   ]
  },
  {
   "cell_type": "code",
   "execution_count": 12,
   "id": "bd8b3a48",
   "metadata": {
    "executionInfo": {
     "elapsed": 197,
     "status": "ok",
     "timestamp": 1667358500432,
     "user": {
      "displayName": "Jasmin Patel",
      "userId": "13267304316818562887"
     },
     "user_tz": 240
    },
    "id": "bd8b3a48"
   },
   "outputs": [],
   "source": [
    "X = dataset.drop('Class',axis=1)\n",
    "y = dataset['Class']\n",
    "p_values = pd.Series(chi_scores[1],index = X.columns)\n",
    "p_values.sort_values(ascending = False , inplace = True)"
   ]
  },
  {
   "cell_type": "code",
   "execution_count": 13,
   "id": "95bee604",
   "metadata": {
    "colab": {
     "base_uri": "https://localhost:8080/"
    },
    "executionInfo": {
     "elapsed": 175,
     "status": "ok",
     "timestamp": 1667358502877,
     "user": {
      "displayName": "Jasmin Patel",
      "userId": "13267304316818562887"
     },
     "user_tz": 240
    },
    "id": "95bee604",
    "outputId": "161fc243-dc94-4123-fa06-5f77d6c6c22a"
   },
   "outputs": [
    {
     "name": "stdout",
     "output_type": "stream",
     "text": [
      "0       Basal\n",
      "1       Basal\n",
      "2       Basal\n",
      "3       Basal\n",
      "4       Basal\n",
      "        ...  \n",
      "153    Normal\n",
      "154    Normal\n",
      "155    Normal\n",
      "156    Normal\n",
      "157    Normal\n",
      "Name: Class, Length: 158, dtype: object\n"
     ]
    }
   ],
   "source": [
    "print(y)"
   ]
  },
  {
   "cell_type": "code",
   "execution_count": 14,
   "id": "6b9031f4",
   "metadata": {
    "colab": {
     "base_uri": "https://localhost:8080/",
     "height": 563
    },
    "executionInfo": {
     "elapsed": 7843,
     "status": "error",
     "timestamp": 1667358511718,
     "user": {
      "displayName": "Jasmin Patel",
      "userId": "13267304316818562887"
     },
     "user_tz": 240
    },
    "id": "6b9031f4",
    "outputId": "29588281-9c36-41cb-d6fc-324e9b4387ad"
   },
   "outputs": [],
   "source": [
    "p_values.plot.bar()\n",
    "# This will take time to run, so be patient or comment it out as it's just a graph"
   ]
  },
  {
   "cell_type": "code",
   "execution_count": 15,
   "id": "6ab56992",
   "metadata": {
    "executionInfo": {
     "elapsed": 184,
     "status": "ok",
     "timestamp": 1667358548474,
     "user": {
      "displayName": "Jasmin Patel",
      "userId": "13267304316818562887"
     },
     "user_tz": 240
    },
    "id": "6ab56992"
   },
   "outputs": [],
   "source": [
    "from sklearn.feature_selection import SelectKBest"
   ]
  },
  {
   "cell_type": "code",
   "execution_count": 44,
   "id": "ec3bb619",
   "metadata": {
    "colab": {
     "base_uri": "https://localhost:8080/"
    },
    "executionInfo": {
     "elapsed": 169,
     "status": "ok",
     "timestamp": 1667358549343,
     "user": {
      "displayName": "Jasmin Patel",
      "userId": "13267304316818562887"
     },
     "user_tz": 240
    },
    "id": "ec3bb619",
    "outputId": "8377f309-d307-46c0-9217-0ab22b698b99"
   },
   "outputs": [
    {
     "name": "stdout",
     "output_type": "stream",
     "text": [
      "[[0.15244293 0.70728291 0.15461672 ... 0.21867928 0.16934932 0.02485236]\n",
      " [0.09867719 0.49789916 0.13937282 ... 0.22155935 0.09434932 0.22834646]\n",
      " [0.08118199 0.92950514 0.2158101  ... 0.29623534 0.14537671 0.30573327]\n",
      " ...\n",
      " [0.59409004 0.86741363 0.42857143 ... 0.29993828 0.48202055 0.83304626]\n",
      " [0.37177299 0.36671335 0.50261324 ... 0.25097717 0.4744863  0.94291339]\n",
      " [0.41263068 0.67553688 0.41093206 ... 0.34211068 0.50325342 0.95607776]]\n"
     ]
    }
   ],
   "source": [
    "chi2_selector = SelectKBest(chi2, k=500)\n",
    "X_kbest = chi2_selector.fit_transform(X_train_minmax, y)\n",
    "print(X_kbest)"
   ]
  },
  {
   "cell_type": "code",
   "execution_count": 46,
   "id": "472f0b33",
   "metadata": {
    "colab": {
     "base_uri": "https://localhost:8080/"
    },
    "executionInfo": {
     "elapsed": 144,
     "status": "ok",
     "timestamp": 1667358557262,
     "user": {
      "displayName": "Jasmin Patel",
      "userId": "13267304316818562887"
     },
     "user_tz": 240
    },
    "id": "472f0b33",
    "outputId": "b545ac65-370e-401b-ec0b-8289f7ed703f"
   },
   "outputs": [
    {
     "name": "stdout",
     "output_type": "stream",
     "text": [
      "Original number of features: (158, 13582)\n",
      "Reduced number of features: (158, 500)\n"
     ]
    }
   ],
   "source": [
    "print('Original number of features:', X.shape)\n",
    "print('Reduced number of features:', X_kbest.shape)"
   ]
  },
  {
   "cell_type": "markdown",
   "id": "54405948",
   "metadata": {
    "id": "54405948"
   },
   "source": [
    "### SVM with rbf kernel"
   ]
  },
  {
   "cell_type": "code",
   "execution_count": 47,
   "id": "92a6f79d",
   "metadata": {
    "executionInfo": {
     "elapsed": 171,
     "status": "ok",
     "timestamp": 1667358560402,
     "user": {
      "displayName": "Jasmin Patel",
      "userId": "13267304316818562887"
     },
     "user_tz": 240
    },
    "id": "92a6f79d"
   },
   "outputs": [],
   "source": [
    "from sklearn.model_selection import train_test_split\n",
    "X_train, X_test, y_train, y_test = train_test_split(X_kbest, y, test_size = 0.2, random_state = 42)"
   ]
  },
  {
   "cell_type": "code",
   "execution_count": 48,
   "id": "4a6357c6",
   "metadata": {
    "colab": {
     "base_uri": "https://localhost:8080/"
    },
    "executionInfo": {
     "elapsed": 188,
     "status": "ok",
     "timestamp": 1667358561276,
     "user": {
      "displayName": "Jasmin Patel",
      "userId": "13267304316818562887"
     },
     "user_tz": 240
    },
    "id": "4a6357c6",
    "outputId": "31aca140-6ccc-4d5c-a3cd-cc20a3663052"
   },
   "outputs": [
    {
     "name": "stdout",
     "output_type": "stream",
     "text": [
      "['LumB' 'Her2' 'Normal' 'LumA' 'Basal']\n"
     ]
    }
   ],
   "source": [
    "print(y_test.unique())"
   ]
  },
  {
   "cell_type": "code",
   "execution_count": 49,
   "id": "f5dc4267",
   "metadata": {
    "colab": {
     "base_uri": "https://localhost:8080/"
    },
    "executionInfo": {
     "elapsed": 156,
     "status": "ok",
     "timestamp": 1667358562093,
     "user": {
      "displayName": "Jasmin Patel",
      "userId": "13267304316818562887"
     },
     "user_tz": 240
    },
    "id": "f5dc4267",
    "outputId": "f7feac94-7045-4af6-ef03-80c046fea9e0"
   },
   "outputs": [
    {
     "data": {
      "text/plain": [
       "SVC(random_state=42)"
      ]
     },
     "execution_count": 49,
     "metadata": {},
     "output_type": "execute_result"
    }
   ],
   "source": [
    "from sklearn.svm import SVC\n",
    "classifier = SVC(kernel = 'rbf', random_state = 42, decision_function_shape='ovr')\n",
    "classifier.fit(X_train, y_train)"
   ]
  },
  {
   "cell_type": "code",
   "execution_count": 1,
   "id": "d45fb687",
   "metadata": {
    "colab": {
     "base_uri": "https://localhost:8080/"
    },
    "executionInfo": {
     "elapsed": 142,
     "status": "ok",
     "timestamp": 1667358562835,
     "user": {
      "displayName": "Jasmin Patel",
      "userId": "13267304316818562887"
     },
     "user_tz": 240
    },
    "id": "d45fb687",
    "outputId": "84de3247-92e7-4aa7-ff36-73b9bc01554d"
   },
   "outputs": [
    {
     "ename": "NameError",
     "evalue": "name 'classifier' is not defined",
     "output_type": "error",
     "traceback": [
      "\u001b[1;31m---------------------------------------------------------------------------\u001b[0m",
      "\u001b[1;31mNameError\u001b[0m                                 Traceback (most recent call last)",
      "\u001b[1;32m~\\AppData\\Local\\Temp/ipykernel_8712/1219445295.py\u001b[0m in \u001b[0;36m<module>\u001b[1;34m\u001b[0m\n\u001b[0;32m      1\u001b[0m \u001b[1;32mfrom\u001b[0m \u001b[0msklearn\u001b[0m\u001b[1;33m.\u001b[0m\u001b[0mmetrics\u001b[0m \u001b[1;32mimport\u001b[0m \u001b[0mconfusion_matrix\u001b[0m\u001b[1;33m,\u001b[0m \u001b[0maccuracy_score\u001b[0m\u001b[1;33m\u001b[0m\u001b[1;33m\u001b[0m\u001b[0m\n\u001b[1;32m----> 2\u001b[1;33m \u001b[0my_pred\u001b[0m \u001b[1;33m=\u001b[0m \u001b[0mclassifier\u001b[0m\u001b[1;33m.\u001b[0m\u001b[0mpredict\u001b[0m\u001b[1;33m(\u001b[0m\u001b[0mX_test\u001b[0m\u001b[1;33m)\u001b[0m\u001b[1;33m\u001b[0m\u001b[1;33m\u001b[0m\u001b[0m\n\u001b[0m\u001b[0;32m      3\u001b[0m \u001b[0mcm\u001b[0m \u001b[1;33m=\u001b[0m \u001b[0mconfusion_matrix\u001b[0m\u001b[1;33m(\u001b[0m\u001b[0my_test\u001b[0m\u001b[1;33m,\u001b[0m \u001b[0my_pred\u001b[0m\u001b[1;33m)\u001b[0m\u001b[1;33m\u001b[0m\u001b[1;33m\u001b[0m\u001b[0m\n\u001b[0;32m      4\u001b[0m \u001b[0mprint\u001b[0m\u001b[1;33m(\u001b[0m\u001b[0mcm\u001b[0m\u001b[1;33m)\u001b[0m\u001b[1;33m\u001b[0m\u001b[1;33m\u001b[0m\u001b[0m\n",
      "\u001b[1;31mNameError\u001b[0m: name 'classifier' is not defined"
     ]
    }
   ],
   "source": [
    "from sklearn.metrics import confusion_matrix, accuracy_score\n",
    "y_pred = classifier.predict(X_test)\n",
    "cm = confusion_matrix(y_test, y_pred)\n",
    "print(cm)"
   ]
  },
  {
   "cell_type": "markdown",
   "id": "d443a79a",
   "metadata": {
    "id": "d443a79a"
   },
   "source": [
    "### 10-fold cross validation"
   ]
  },
  {
   "cell_type": "code",
   "execution_count": 51,
   "id": "7d0e7092",
   "metadata": {
    "colab": {
     "base_uri": "https://localhost:8080/"
    },
    "executionInfo": {
     "elapsed": 157,
     "status": "ok",
     "timestamp": 1667358565041,
     "user": {
      "displayName": "Jasmin Patel",
      "userId": "13267304316818562887"
     },
     "user_tz": 240
    },
    "id": "7d0e7092",
    "outputId": "5c345261-9ffd-46c8-b15d-34d31a3bcaa6"
   },
   "outputs": [
    {
     "name": "stdout",
     "output_type": "stream",
     "text": [
      "Accuracy: 88.72 %\n",
      "Standard Deviation: 7.68 %\n"
     ]
    },
    {
     "name": "stderr",
     "output_type": "stream",
     "text": [
      "c:\\users\\farha\\appdata\\local\\programs\\python\\python39\\lib\\site-packages\\sklearn\\model_selection\\_split.py:676: UserWarning: The least populated class in y has only 9 members, which is less than n_splits=10.\n",
      "  warnings.warn(\n"
     ]
    }
   ],
   "source": [
    "from sklearn.model_selection import cross_val_score\n",
    "accuracies = cross_val_score(estimator = classifier, X = X_train, y = y_train, cv = 10)\n",
    "print(\"Accuracy: {:.2f} %\".format(accuracies.mean()*100))\n",
    "print(\"Standard Deviation: {:.2f} %\".format(accuracies.std()*100))"
   ]
  },
  {
   "cell_type": "markdown",
   "id": "526f8c32",
   "metadata": {
    "id": "526f8c32"
   },
   "source": [
    "### Metrics calculation"
   ]
  },
  {
   "cell_type": "code",
   "execution_count": 52,
   "id": "3C15Wih0mGCO",
   "metadata": {
    "colab": {
     "base_uri": "https://localhost:8080/"
    },
    "executionInfo": {
     "elapsed": 195,
     "status": "ok",
     "timestamp": 1667358994971,
     "user": {
      "displayName": "Jasmin Patel",
      "userId": "13267304316818562887"
     },
     "user_tz": 240
    },
    "id": "3C15Wih0mGCO",
    "outputId": "12f940f4-1d13-4de8-a3f8-5eed21e14786"
   },
   "outputs": [
    {
     "name": "stdout",
     "output_type": "stream",
     "text": [
      "[0 2 2 0 1]\n",
      "[0 0 1 2 2]\n",
      "[9 3 9 4 2]\n",
      "[23 27 20 26 27]\n"
     ]
    }
   ],
   "source": [
    "FP = cm.sum(axis=0) - np.diag(cm)  \n",
    "FN = cm.sum(axis=1) - np.diag(cm)\n",
    "TP = np.diag(cm)\n",
    "TN = cm.sum() - (FP + FN + TP)\n",
    "\n",
    "print(FP)\n",
    "print(FN)\n",
    "print(TP)\n",
    "print(TN)\n",
    "\n"
   ]
  },
  {
   "cell_type": "code",
   "execution_count": 53,
   "id": "m-mZvsOFWBR7",
   "metadata": {
    "executionInfo": {
     "elapsed": 7,
     "status": "ok",
     "timestamp": 1667359087182,
     "user": {
      "displayName": "Jasmin Patel",
      "userId": "13267304316818562887"
     },
     "user_tz": 240
    },
    "id": "m-mZvsOFWBR7"
   },
   "outputs": [],
   "source": [
    "# Sensitivity, hit rate, recall, or true positive rate\n",
    "TPR = TP/(TP+FN)\n",
    "# Specificity or true negative rate\n",
    "TNR = TN/(TN+FP) \n",
    "# Precision or positive predictive value\n",
    "PPV = TP/(TP+FP)\n",
    "# Negative predictive value\n",
    "NPV = TN/(TN+FN)\n",
    "# Fall out or false positive rate\n",
    "FPR = FP/(FP+TN)\n",
    "# False negative rate\n",
    "FNR = FN/(TP+FN)\n",
    "# False discovery rate\n",
    "FDR = FP/(TP+FP)\n",
    "\n",
    "# Overall accuracy\n",
    "ACC = (TP+TN)/(TP+FP+FN+TN)\n"
   ]
  },
  {
   "cell_type": "code",
   "execution_count": 54,
   "id": "zxNI5ZR6WKcp",
   "metadata": {
    "colab": {
     "base_uri": "https://localhost:8080/"
    },
    "executionInfo": {
     "elapsed": 196,
     "status": "ok",
     "timestamp": 1667359186192,
     "user": {
      "displayName": "Jasmin Patel",
      "userId": "13267304316818562887"
     },
     "user_tz": 240
    },
    "id": "zxNI5ZR6WKcp",
    "outputId": "9f276853-ad87-41d3-c7c5-682370492867"
   },
   "outputs": [
    {
     "name": "stdout",
     "output_type": "stream",
     "text": [
      "PPV:[1.         0.6        0.81818182 1.         0.66666667]\n",
      "NPV:[1.         1.         0.95238095 0.92857143 0.93103448]\n",
      "Sensitivity:[1.         1.         0.9        0.66666667 0.5       ]\n",
      "Specificity:[1.         0.93103448 0.90909091 1.         0.96428571]\n",
      "\n",
      "\n",
      "Accuracy: [1.      0.9375  0.90625 0.9375  0.90625]\n"
     ]
    }
   ],
   "source": [
    "print(\"PPV:{}\\nNPV:{}\\nSensitivity:{}\\nSpecificity:{}\".format(PPV, NPV, TPR, TNR))\n",
    "print('\\n')\n",
    "print(\"Accuracy:\",ACC)"
   ]
  },
  {
   "cell_type": "code",
   "execution_count": 55,
   "id": "2231d7b4",
   "metadata": {},
   "outputs": [
    {
     "name": "stdout",
     "output_type": "stream",
     "text": [
      "PPV:0.82\n",
      "NPV:0.96\n",
      "Sensitivity:0.81\n",
      "Specificity:0.96\n",
      "Accuracy:0.94\n"
     ]
    }
   ],
   "source": [
    "avg_PPV  = np.average(PPV, axis=None, weights=None, returned=False)\n",
    "avg_NPV  = np.average(NPV, axis=None, weights=None, returned=False)\n",
    "avg_TPR  = np.average(TPR, axis=None, weights=None, returned=False)\n",
    "avg_TNR  = np.average(TNR, axis=None, weights=None, returned=False)\n",
    "avg_ACC  = np.average(ACC, axis=None, weights=None, returned=False)\n",
    "print(\"PPV:{:.2f}\\nNPV:{:.2f}\\nSensitivity:{:.2f}\\nSpecificity:{:.2f}\\nAccuracy:{:.2f}\".format(avg_PPV, avg_NPV, avg_TPR, avg_TNR, avg_ACC))"
   ]
  }
 ],
 "metadata": {
  "colab": {
   "collapsed_sections": [],
   "provenance": []
  },
  "kernelspec": {
   "display_name": "Python 3.9.6 64-bit",
   "language": "python",
   "name": "python3"
  },
  "language_info": {
   "codemirror_mode": {
    "name": "ipython",
    "version": 3
   },
   "file_extension": ".py",
   "mimetype": "text/x-python",
   "name": "python",
   "nbconvert_exporter": "python",
   "pygments_lexer": "ipython3",
   "version": "3.9.6"
  },
  "vscode": {
   "interpreter": {
    "hash": "40b7c102bcf05e5897256ca18f96aa7dd41cd47c950cbadcdc11647e772909c2"
   }
  }
 },
 "nbformat": 4,
 "nbformat_minor": 5
}
