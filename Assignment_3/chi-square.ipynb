{
 "cells": [
  {
   "cell_type": "markdown",
   "id": "06cba1b7",
   "metadata": {
    "id": "06cba1b7"
   },
   "source": [
    "## Importing the libraries"
   ]
  },
  {
   "cell_type": "code",
   "execution_count": 3,
   "id": "c025922b",
   "metadata": {
    "executionInfo": {
     "elapsed": 415,
     "status": "ok",
     "timestamp": 1667355517647,
     "user": {
      "displayName": "Jasmin Patel",
      "userId": "13267304316818562887"
     },
     "user_tz": 240
    },
    "id": "c025922b"
   },
   "outputs": [],
   "source": [
    "import numpy as np\n",
    "import matplotlib.pyplot as plt\n",
    "import pandas as pd\n",
    "import os\n"
   ]
  },
  {
   "cell_type": "code",
   "execution_count": 6,
   "id": "CCSUkQTKh452",
   "metadata": {
    "colab": {
     "base_uri": "https://localhost:8080/"
    },
    "executionInfo": {
     "elapsed": 212,
     "status": "ok",
     "timestamp": 1667355518815,
     "user": {
      "displayName": "Jasmin Patel",
      "userId": "13267304316818562887"
     },
     "user_tz": 240
    },
    "id": "CCSUkQTKh452",
    "outputId": "ac9cdcc9-0d76-4944-a0da-5b1eaf670e98"
   },
   "outputs": [
    {
     "data": {
      "text/plain": [
       "'/Users/mustafamohammadi/Documents/PhD Education/Machine learning and pattern recognitions/Comp_8740/Assignment_3/Datasets/Breastcancer.csv'"
      ]
     },
     "execution_count": 6,
     "metadata": {},
     "output_type": "execute_result"
    }
   ],
   "source": [
    "# import pathlib\n",
    "# pathlib.Path().resolve()\n",
    "os.getcwd()+'/Datasets/Breastcancer.csv'"
   ]
  },
  {
   "cell_type": "code",
   "execution_count": 7,
   "id": "f65c3484",
   "metadata": {
    "executionInfo": {
     "elapsed": 937,
     "status": "ok",
     "timestamp": 1667358484725,
     "user": {
      "displayName": "Jasmin Patel",
      "userId": "13267304316818562887"
     },
     "user_tz": 240
    },
    "id": "f65c3484"
   },
   "outputs": [],
   "source": [
    "dataset = pd.read_csv(os.getcwd()+'/Datasets/Breastcancer.csv')\n",
    "dataset.replace([np.inf, -np.inf], np.nan, inplace=True)\n",
    "\n",
    "X = dataset.iloc[:, :-1].values\n",
    "y = dataset.iloc[:, -1].values"
   ]
  },
  {
   "cell_type": "code",
   "execution_count": 8,
   "id": "28ae17b3",
   "metadata": {
    "colab": {
     "base_uri": "https://localhost:8080/"
    },
    "executionInfo": {
     "elapsed": 170,
     "status": "ok",
     "timestamp": 1667358486074,
     "user": {
      "displayName": "Jasmin Patel",
      "userId": "13267304316818562887"
     },
     "user_tz": 240
    },
    "id": "28ae17b3",
    "outputId": "33b12176-edd7-4441-857f-b45101f925f5"
   },
   "outputs": [
    {
     "data": {
      "text/plain": [
       "(158, 13583)"
      ]
     },
     "execution_count": 8,
     "metadata": {},
     "output_type": "execute_result"
    }
   ],
   "source": [
    "dataset.shape"
   ]
  },
  {
   "cell_type": "markdown",
   "id": "669cd038",
   "metadata": {
    "id": "669cd038"
   },
   "source": [
    "## Taking care of missing data"
   ]
  },
  {
   "cell_type": "code",
   "execution_count": 9,
   "id": "2aec9c5a",
   "metadata": {
    "executionInfo": {
     "elapsed": 242,
     "status": "ok",
     "timestamp": 1667358486949,
     "user": {
      "displayName": "Jasmin Patel",
      "userId": "13267304316818562887"
     },
     "user_tz": 240
    },
    "id": "2aec9c5a"
   },
   "outputs": [],
   "source": [
    "from sklearn.impute import SimpleImputer\n",
    "imputer = SimpleImputer(missing_values=np.nan, strategy='mean')\n",
    "imputer.fit(X[:, :-1])\n",
    "X[:, :-1] = imputer.transform(X[:, :-1])"
   ]
  },
  {
   "cell_type": "code",
   "execution_count": 10,
   "id": "d3df4256",
   "metadata": {
    "colab": {
     "base_uri": "https://localhost:8080/"
    },
    "executionInfo": {
     "elapsed": 9,
     "status": "ok",
     "timestamp": 1667358487165,
     "user": {
      "displayName": "Jasmin Patel",
      "userId": "13267304316818562887"
     },
     "user_tz": 240
    },
    "id": "d3df4256",
    "outputId": "65217e53-d728-4a2f-bd07-4c2b4433d35f"
   },
   "outputs": [
    {
     "name": "stdout",
     "output_type": "stream",
     "text": [
      "[[ 0.425 -0.316  0.465 ...  0.323 -0.4    0.064]\n",
      " [ 0.694 -0.497  0.2   ...  0.505 -0.275  0.3  ]\n",
      " [ 0.304 -0.205  0.739 ...  0.047 -0.98   0.233]\n",
      " ...\n",
      " [ 0.041  0.038  0.774 ...  0.298 -0.679  0.099]\n",
      " [ 0.139 -0.353  0.643 ... -0.144 -0.467  0.344]\n",
      " [-0.04   0.01   1.086 ...  1.654 -1.363  0.28 ]]\n"
     ]
    }
   ],
   "source": [
    "print(X)"
   ]
  },
  {
   "cell_type": "markdown",
   "id": "dac6d30f",
   "metadata": {
    "id": "dac6d30f"
   },
   "source": [
    "### Encoding the Dependent Variable"
   ]
  },
  {
   "cell_type": "code",
   "execution_count": 11,
   "id": "716a3d02",
   "metadata": {
    "executionInfo": {
     "elapsed": 176,
     "status": "ok",
     "timestamp": 1667358488148,
     "user": {
      "displayName": "Jasmin Patel",
      "userId": "13267304316818562887"
     },
     "user_tz": 240
    },
    "id": "716a3d02"
   },
   "outputs": [],
   "source": [
    "from sklearn.preprocessing import LabelEncoder\n",
    "le = LabelEncoder()\n",
    "y = le.fit_transform(y)"
   ]
  },
  {
   "cell_type": "code",
   "execution_count": 12,
   "id": "e7bfce96",
   "metadata": {
    "colab": {
     "base_uri": "https://localhost:8080/"
    },
    "executionInfo": {
     "elapsed": 12,
     "status": "ok",
     "timestamp": 1667358488710,
     "user": {
      "displayName": "Jasmin Patel",
      "userId": "13267304316818562887"
     },
     "user_tz": 240
    },
    "id": "e7bfce96",
    "outputId": "6f599637-eb87-43a0-856d-6e7ad6614b5d"
   },
   "outputs": [
    {
     "name": "stdout",
     "output_type": "stream",
     "text": [
      "[0 0 0 0 0 0 0 0 0 0 0 0 0 0 0 0 0 0 0 0 0 0 0 0 0 0 0 0 0 0 0 0 0 0 0 0 0\n",
      " 0 0 1 1 1 1 1 1 1 1 1 1 1 1 1 1 1 1 1 1 1 1 1 1 2 2 2 2 2 2 2 2 2 2 2 2 2\n",
      " 2 2 2 2 2 2 2 2 2 2 2 2 2 2 2 2 2 2 2 2 2 2 2 2 2 2 2 2 2 2 2 2 2 2 2 2 2\n",
      " 2 2 2 3 3 3 3 3 3 3 3 3 3 3 3 3 3 3 3 3 3 3 3 3 3 3 3 3 3 3 3 3 3 3 4 4 4\n",
      " 4 4 4 4 4 4 4 4 4 4]\n"
     ]
    },
    {
     "data": {
      "text/plain": [
       "(158,)"
      ]
     },
     "execution_count": 12,
     "metadata": {},
     "output_type": "execute_result"
    }
   ],
   "source": [
    "print(y)\n",
    "y.shape"
   ]
  },
  {
   "cell_type": "markdown",
   "id": "196504c5",
   "metadata": {
    "id": "196504c5"
   },
   "source": [
    "### Min-Max scaling"
   ]
  },
  {
   "cell_type": "code",
   "execution_count": 17,
   "id": "8ddd7477",
   "metadata": {
    "executionInfo": {
     "elapsed": 177,
     "status": "ok",
     "timestamp": 1667358489717,
     "user": {
      "displayName": "Jasmin Patel",
      "userId": "13267304316818562887"
     },
     "user_tz": 240
    },
    "id": "8ddd7477"
   },
   "outputs": [
    {
     "data": {
      "text/plain": [
       "1.0000000000000002"
      ]
     },
     "execution_count": 17,
     "metadata": {},
     "output_type": "execute_result"
    }
   ],
   "source": [
    "from sklearn import preprocessing\n",
    "min_max_scaler = preprocessing.MinMaxScaler()\n",
    "X_train_minmax = min_max_scaler.fit_transform(X)\n",
    "X_train_minmax.max()"
   ]
  },
  {
   "cell_type": "markdown",
   "id": "24200f2b",
   "metadata": {
    "id": "24200f2b"
   },
   "source": [
    "### Chi-square feature selection\n",
    "select two feature selections the chi_squard and the information gain"
   ]
  },
  {
   "cell_type": "code",
   "execution_count": 31,
   "id": "ae9ae962",
   "metadata": {
    "executionInfo": {
     "elapsed": 152,
     "status": "ok",
     "timestamp": 1667358494474,
     "user": {
      "displayName": "Jasmin Patel",
      "userId": "13267304316818562887"
     },
     "user_tz": 240
    },
    "id": "ae9ae962"
   },
   "outputs": [
    {
     "name": "stdout",
     "output_type": "stream",
     "text": [
      "(array([0.56288441, 0.36218066, 0.54701439, ..., 0.54502882, 0.82407793,\n",
      "       0.06101989]), array([0.96709743, 0.98545451, 0.96876566, ..., 0.96897195, 0.93519124,\n",
      "       0.99954393]))\n",
      "[0.03148527 0.01665064 0.         ... 0.04816028 0.07600208 0.        ]\n"
     ]
    }
   ],
   "source": [
    "from sklearn.feature_selection import chi2, mutual_info_classif\n",
    "chi_scores = chi2(X_train_minmax,y)\n",
    "information_gain = mutual_info_classif(X_train_minmax, y)\n",
    "print(chi_scores)\n",
    "print(information_gain)"
   ]
  },
  {
   "cell_type": "code",
   "execution_count": 30,
   "id": "695db6e6",
   "metadata": {},
   "outputs": [
    {
     "name": "stdout",
     "output_type": "stream",
     "text": [
      "22.48944639060302\n",
      "0.693866925355265\n"
     ]
    }
   ],
   "source": [
    "print(chi_scores[0].max())\n",
    "print(information_gain.max())"
   ]
  },
  {
   "cell_type": "code",
   "execution_count": 32,
   "id": "bd8b3a48",
   "metadata": {
    "executionInfo": {
     "elapsed": 197,
     "status": "ok",
     "timestamp": 1667358500432,
     "user": {
      "displayName": "Jasmin Patel",
      "userId": "13267304316818562887"
     },
     "user_tz": 240
    },
    "id": "bd8b3a48"
   },
   "outputs": [],
   "source": [
    "X = dataset.drop('Class',axis=1)\n",
    "y = dataset['Class']\n",
    "p_values = pd.Series(chi_scores[1],index = X.columns)\n",
    "p_values.sort_values(ascending = False , inplace = True)\n",
    "p_values_IG = pd.Series(information_gain, index = X.columns)\n",
    "p_values_IG.sort_values(ascending = False, inplace= True)"
   ]
  },
  {
   "cell_type": "code",
   "execution_count": 13,
   "id": "95bee604",
   "metadata": {
    "colab": {
     "base_uri": "https://localhost:8080/"
    },
    "executionInfo": {
     "elapsed": 175,
     "status": "ok",
     "timestamp": 1667358502877,
     "user": {
      "displayName": "Jasmin Patel",
      "userId": "13267304316818562887"
     },
     "user_tz": 240
    },
    "id": "95bee604",
    "outputId": "161fc243-dc94-4123-fa06-5f77d6c6c22a"
   },
   "outputs": [
    {
     "name": "stdout",
     "output_type": "stream",
     "text": [
      "0       Basal\n",
      "1       Basal\n",
      "2       Basal\n",
      "3       Basal\n",
      "4       Basal\n",
      "        ...  \n",
      "153    Normal\n",
      "154    Normal\n",
      "155    Normal\n",
      "156    Normal\n",
      "157    Normal\n",
      "Name: Class, Length: 158, dtype: object\n"
     ]
    }
   ],
   "source": [
    "print(y)"
   ]
  },
  {
   "cell_type": "code",
   "execution_count": 33,
   "id": "6b9031f4",
   "metadata": {
    "colab": {
     "base_uri": "https://localhost:8080/",
     "height": 563
    },
    "executionInfo": {
     "elapsed": 7843,
     "status": "error",
     "timestamp": 1667358511718,
     "user": {
      "displayName": "Jasmin Patel",
      "userId": "13267304316818562887"
     },
     "user_tz": 240
    },
    "id": "6b9031f4",
    "outputId": "29588281-9c36-41cb-d6fc-324e9b4387ad"
   },
   "outputs": [
    {
     "data": {
      "text/plain": [
       "<AxesSubplot:>"
      ]
     },
     "execution_count": 33,
     "metadata": {},
     "output_type": "execute_result"
    },
    {
     "data": {
      "image/png": "[encoded data removed]",
      "text/plain": [
       "<Figure size 432x288 with 1 Axes>"
      ]
     },
     "metadata": {
      "needs_background": "light"
     },
     "output_type": "display_data"
    }
   ],
   "source": [
    "p_values.plot.bar()\n",
    "# This will take time to run, so be patient or comment it out as it's just a graph"
   ]
  },
  {
   "cell_type": "code",
   "execution_count": 34,
   "id": "8e60ab85",
   "metadata": {},
   "outputs": [
    {
     "data": {
      "text/plain": [
       "<AxesSubplot:>"
      ]
     },
     "execution_count": 34,
     "metadata": {},
     "output_type": "execute_result"
    },
    {
     "data": {
      "image/png": "[encoded data removed]",
      "text/plain": [
       "<Figure size 432x288 with 1 Axes>"
      ]
     },
     "metadata": {
      "needs_background": "light"
     },
     "output_type": "display_data"
    }
   ],
   "source": [
    "p_values_IG.plot.bar()"
   ]
  },
  {
   "cell_type": "code",
   "execution_count": 36,
   "id": "6ab56992",
   "metadata": {
    "executionInfo": {
     "elapsed": 184,
     "status": "ok",
     "timestamp": 1667358548474,
     "user": {
      "displayName": "Jasmin Patel",
      "userId": "13267304316818562887"
     },
     "user_tz": 240
    },
    "id": "6ab56992"
   },
   "outputs": [],
   "source": [
    "from sklearn.feature_selection import SelectKBest"
   ]
  },
  {
   "cell_type": "code",
   "execution_count": 37,
   "id": "ec3bb619",
   "metadata": {
    "colab": {
     "base_uri": "https://localhost:8080/"
    },
    "executionInfo": {
     "elapsed": 169,
     "status": "ok",
     "timestamp": 1667358549343,
     "user": {
      "displayName": "Jasmin Patel",
      "userId": "13267304316818562887"
     },
     "user_tz": 240
    },
    "id": "ec3bb619",
    "outputId": "8377f309-d307-46c0-9217-0ab22b698b99"
   },
   "outputs": [
    {
     "name": "stdout",
     "output_type": "stream",
     "text": [
      "[[0.15244293 0.70728291 0.15461672 ... 0.21867928 0.16934932 0.02485236]\n",
      " [0.09867719 0.49789916 0.13937282 ... 0.22155935 0.09434932 0.22834646]\n",
      " [0.08118199 0.92950514 0.2158101  ... 0.29623534 0.14537671 0.30573327]\n",
      " ...\n",
      " [0.59409004 0.86741363 0.42857143 ... 0.29993828 0.48202055 0.83304626]\n",
      " [0.37177299 0.36671335 0.50261324 ... 0.25097717 0.4744863  0.94291339]\n",
      " [0.41263068 0.67553688 0.41093206 ... 0.34211068 0.50325342 0.95607776]]\n",
      "[[0.15244293 0.70728291 0.2555399  ... 0.02029447 0.16934932 0.64151612]\n",
      " [0.09867719 0.49789916 0.25054438 ... 0.53243136 0.09434932 0.69659936]\n",
      " [0.08118199 0.92950514 0.21929038 ... 0.53521687 0.14537671 0.5214311 ]\n",
      " ...\n",
      " [0.59409004 0.86741363 0.35749968 ... 0.30362117 0.48202055 0.65161176]\n",
      " [0.37177299 0.36671335 0.57794287 ... 0.11619578 0.4744863  0.62256465]\n",
      " [0.41263068 0.67553688 0.17983861 ... 0.31078392 0.50325342 0.5524265 ]]\n"
     ]
    }
   ],
   "source": [
    "chi2_selector = SelectKBest(chi2, k=500)\n",
    "X_kbest = chi2_selector.fit_transform(X_train_minmax, y)\n",
    "\n",
    "IG_selector = SelectKBest(mutual_info_classif, k=500)\n",
    "X_kbest_IG = IG_selector.fit_transform(X_train_minmax, y)\n",
    "\n",
    "print(X_kbest)\n",
    "print(X_kbest_IG)"
   ]
  },
  {
   "cell_type": "code",
   "execution_count": 46,
   "id": "472f0b33",
   "metadata": {
    "colab": {
     "base_uri": "https://localhost:8080/"
    },
    "executionInfo": {
     "elapsed": 144,
     "status": "ok",
     "timestamp": 1667358557262,
     "user": {
      "displayName": "Jasmin Patel",
      "userId": "13267304316818562887"
     },
     "user_tz": 240
    },
    "id": "472f0b33",
    "outputId": "b545ac65-370e-401b-ec0b-8289f7ed703f"
   },
   "outputs": [
    {
     "name": "stdout",
     "output_type": "stream",
     "text": [
      "Original number of features: (158, 13582)\n",
      "Reduced number of features: (158, 500)\n"
     ]
    }
   ],
   "source": [
    "print('Original number of features:', X.shape)\n",
    "print('Reduced number of features:', X_kbest.shape)"
   ]
  },
  {
   "cell_type": "markdown",
   "id": "54405948",
   "metadata": {
    "id": "54405948"
   },
   "source": [
    "### SVM with rbf kernel"
   ]
  },
  {
   "cell_type": "code",
   "execution_count": 38,
   "id": "92a6f79d",
   "metadata": {
    "executionInfo": {
     "elapsed": 171,
     "status": "ok",
     "timestamp": 1667358560402,
     "user": {
      "displayName": "Jasmin Patel",
      "userId": "13267304316818562887"
     },
     "user_tz": 240
    },
    "id": "92a6f79d"
   },
   "outputs": [],
   "source": [
    "from sklearn.model_selection import train_test_split\n",
    "X_train, X_test, y_train, y_test = train_test_split(X_kbest, y, test_size = 0.2, random_state = 42)\n",
    "X_train_IG, X_test_IG, y_train_IG, y_test_IG = train_test_split(X_kbest_IG, y, test_size = 0.2, random_state = 42)"
   ]
  },
  {
   "cell_type": "code",
   "execution_count": 39,
   "id": "4a6357c6",
   "metadata": {
    "colab": {
     "base_uri": "https://localhost:8080/"
    },
    "executionInfo": {
     "elapsed": 188,
     "status": "ok",
     "timestamp": 1667358561276,
     "user": {
      "displayName": "Jasmin Patel",
      "userId": "13267304316818562887"
     },
     "user_tz": 240
    },
    "id": "4a6357c6",
    "outputId": "31aca140-6ccc-4d5c-a3cd-cc20a3663052"
   },
   "outputs": [
    {
     "name": "stdout",
     "output_type": "stream",
     "text": [
      "['LumB' 'Her2' 'Normal' 'LumA' 'Basal']\n",
      "['LumB' 'Her2' 'Normal' 'LumA' 'Basal']\n"
     ]
    }
   ],
   "source": [
    "print(y_test.unique())\n",
    "print(y_test_IG.unique())\n"
   ]
  },
  {
   "cell_type": "code",
   "execution_count": 41,
   "id": "f5dc4267",
   "metadata": {
    "colab": {
     "base_uri": "https://localhost:8080/"
    },
    "executionInfo": {
     "elapsed": 156,
     "status": "ok",
     "timestamp": 1667358562093,
     "user": {
      "displayName": "Jasmin Patel",
      "userId": "13267304316818562887"
     },
     "user_tz": 240
    },
    "id": "f5dc4267",
    "outputId": "f7feac94-7045-4af6-ef03-80c046fea9e0"
   },
   "outputs": [
    {
     "data": {
      "text/html": [
       "<style>#sk-container-id-2 {color: black;background-color: white;}#sk-container-id-2 pre{padding: 0;}#sk-container-id-2 div.sk-toggleable {background-color: white;}#sk-container-id-2 label.sk-toggleable__label {cursor: pointer;display: block;width: 100%;margin-bottom: 0;padding: 0.3em;box-sizing: border-box;text-align: center;}#sk-container-id-2 label.sk-toggleable__label-arrow:before {content: \"▸\";float: left;margin-right: 0.25em;color: #696969;}#sk-container-id-2 label.sk-toggleable__label-arrow:hover:before {color: black;}#sk-container-id-2 div.sk-estimator:hover label.sk-toggleable__label-arrow:before {color: black;}#sk-container-id-2 div.sk-toggleable__content {max-height: 0;max-width: 0;overflow: hidden;text-align: left;background-color: #f0f8ff;}#sk-container-id-2 div.sk-toggleable__content pre {margin: 0.2em;color: black;border-radius: 0.25em;background-color: #f0f8ff;}#sk-container-id-2 input.sk-toggleable__control:checked~div.sk-toggleable__content {max-height: 200px;max-width: 100%;overflow: auto;}#sk-container-id-2 input.sk-toggleable__control:checked~label.sk-toggleable__label-arrow:before {content: \"▾\";}#sk-container-id-2 div.sk-estimator input.sk-toggleable__control:checked~label.sk-toggleable__label {background-color: #d4ebff;}#sk-container-id-2 div.sk-label input.sk-toggleable__control:checked~label.sk-toggleable__label {background-color: #d4ebff;}#sk-container-id-2 input.sk-hidden--visually {border: 0;clip: rect(1px 1px 1px 1px);clip: rect(1px, 1px, 1px, 1px);height: 1px;margin: -1px;overflow: hidden;padding: 0;position: absolute;width: 1px;}#sk-container-id-2 div.sk-estimator {font-family: monospace;background-color: #f0f8ff;border: 1px dotted black;border-radius: 0.25em;box-sizing: border-box;margin-bottom: 0.5em;}#sk-container-id-2 div.sk-estimator:hover {background-color: #d4ebff;}#sk-container-id-2 div.sk-parallel-item::after {content: \"\";width: 100%;border-bottom: 1px solid gray;flex-grow: 1;}#sk-container-id-2 div.sk-label:hover label.sk-toggleable__label {background-color: #d4ebff;}#sk-container-id-2 div.sk-serial::before {content: \"\";position: absolute;border-left: 1px solid gray;box-sizing: border-box;top: 0;bottom: 0;left: 50%;z-index: 0;}#sk-container-id-2 div.sk-serial {display: flex;flex-direction: column;align-items: center;background-color: white;padding-right: 0.2em;padding-left: 0.2em;position: relative;}#sk-container-id-2 div.sk-item {position: relative;z-index: 1;}#sk-container-id-2 div.sk-parallel {display: flex;align-items: stretch;justify-content: center;background-color: white;position: relative;}#sk-container-id-2 div.sk-item::before, #sk-container-id-2 div.sk-parallel-item::before {content: \"\";position: absolute;border-left: 1px solid gray;box-sizing: border-box;top: 0;bottom: 0;left: 50%;z-index: -1;}#sk-container-id-2 div.sk-parallel-item {display: flex;flex-direction: column;z-index: 1;position: relative;background-color: white;}#sk-container-id-2 div.sk-parallel-item:first-child::after {align-self: flex-end;width: 50%;}#sk-container-id-2 div.sk-parallel-item:last-child::after {align-self: flex-start;width: 50%;}#sk-container-id-2 div.sk-parallel-item:only-child::after {width: 0;}#sk-container-id-2 div.sk-dashed-wrapped {border: 1px dashed gray;margin: 0 0.4em 0.5em 0.4em;box-sizing: border-box;padding-bottom: 0.4em;background-color: white;}#sk-container-id-2 div.sk-label label {font-family: monospace;font-weight: bold;display: inline-block;line-height: 1.2em;}#sk-container-id-2 div.sk-label-container {text-align: center;}#sk-container-id-2 div.sk-container {/* jupyter's `normalize.less` sets `[hidden] { display: none; }` but bootstrap.min.css set `[hidden] { display: none !important; }` so we also need the `!important` here to be able to override the default hidden behavior on the sphinx rendered scikit-learn.org. See: https://github.com/scikit-learn/scikit-learn/issues/21755 */display: inline-block !important;position: relative;}#sk-container-id-2 div.sk-text-repr-fallback {display: none;}</style><div id=\"sk-container-id-2\" class=\"sk-top-container\"><div class=\"sk-text-repr-fallback\"><pre>SVC(random_state=42)</pre><b>In a Jupyter environment, please rerun this cell to show the HTML representation or trust the notebook. <br />On GitHub, the HTML representation is unable to render, please try loading this page with nbviewer.org.</b></div><div class=\"sk-container\" hidden><div class=\"sk-item\"><div class=\"sk-estimator sk-toggleable\"><input class=\"sk-toggleable__control sk-hidden--visually\" id=\"sk-estimator-id-2\" type=\"checkbox\" checked><label for=\"sk-estimator-id-2\" class=\"sk-toggleable__label sk-toggleable__label-arrow\">SVC</label><div class=\"sk-toggleable__content\"><pre>SVC(random_state=42)</pre></div></div></div></div></div>"
      ],
      "text/plain": [
       "SVC(random_state=42)"
      ]
     },
     "execution_count": 41,
     "metadata": {},
     "output_type": "execute_result"
    }
   ],
   "source": [
    "from sklearn.svm import SVC\n",
    "classifier = SVC(kernel = 'rbf', random_state = 42, decision_function_shape='ovr')\n",
    "classifier.fit(X_train, y_train)\n",
    "\n",
    "classifier_IG = SVC(kernel = 'rbf', random_state = 42, decision_function_shape='ovr')\n",
    "classifier_IG.fit(X_train_IG, y_train_IG)\n"
   ]
  },
  {
   "cell_type": "code",
   "execution_count": 42,
   "id": "d45fb687",
   "metadata": {
    "colab": {
     "base_uri": "https://localhost:8080/"
    },
    "executionInfo": {
     "elapsed": 142,
     "status": "ok",
     "timestamp": 1667358562835,
     "user": {
      "displayName": "Jasmin Patel",
      "userId": "13267304316818562887"
     },
     "user_tz": 240
    },
    "id": "d45fb687",
    "outputId": "84de3247-92e7-4aa7-ff36-73b9bc01554d"
   },
   "outputs": [
    {
     "name": "stdout",
     "output_type": "stream",
     "text": [
      "[[9 0 0 0 0]\n",
      " [0 3 0 0 0]\n",
      " [0 0 9 0 1]\n",
      " [0 0 2 4 0]\n",
      " [0 2 0 0 2]]\n",
      "[[7 0 0 2 0]\n",
      " [0 1 1 1 0]\n",
      " [0 0 9 1 0]\n",
      " [0 0 4 2 0]\n",
      " [0 1 1 2 0]]\n"
     ]
    }
   ],
   "source": [
    "from sklearn.metrics import confusion_matrix, accuracy_score\n",
    "y_pred = classifier.predict(X_test)\n",
    "cm = confusion_matrix(y_test, y_pred)\n",
    "print(cm)\n",
    "\n",
    "y_pred_IG = classifier.predict(X_test_IG)\n",
    "cm_IG = confusion_matrix(y_test_IG, y_pred_IG)\n",
    "print(cm_IG)"
   ]
  },
  {
   "cell_type": "markdown",
   "id": "d443a79a",
   "metadata": {
    "id": "d443a79a"
   },
   "source": [
    "### 10-fold cross validation"
   ]
  },
  {
   "cell_type": "code",
   "execution_count": 44,
   "id": "7d0e7092",
   "metadata": {
    "colab": {
     "base_uri": "https://localhost:8080/"
    },
    "executionInfo": {
     "elapsed": 157,
     "status": "ok",
     "timestamp": 1667358565041,
     "user": {
      "displayName": "Jasmin Patel",
      "userId": "13267304316818562887"
     },
     "user_tz": 240
    },
    "id": "7d0e7092",
    "outputId": "5c345261-9ffd-46c8-b15d-34d31a3bcaa6"
   },
   "outputs": [
    {
     "name": "stdout",
     "output_type": "stream",
     "text": [
      "Accuracy: 88.72 %\n",
      "Standard Deviation: 7.68 %\n",
      "IG Accuracy: 87.18 %\n",
      "IG Standard Deviation: 6.59 %\n"
     ]
    },
    {
     "name": "stderr",
     "output_type": "stream",
     "text": [
      "/opt/homebrew/Caskroom/miniforge/base/envs/tensor-metal/lib/python3.8/site-packages/sklearn/model_selection/_split.py:684: UserWarning: The least populated class in y has only 9 members, which is less than n_splits=10.\n",
      "  warnings.warn(\n",
      "/opt/homebrew/Caskroom/miniforge/base/envs/tensor-metal/lib/python3.8/site-packages/sklearn/model_selection/_split.py:684: UserWarning: The least populated class in y has only 9 members, which is less than n_splits=10.\n",
      "  warnings.warn(\n"
     ]
    }
   ],
   "source": [
    "from sklearn.model_selection import cross_val_score\n",
    "accuracies = cross_val_score(estimator = classifier, X = X_train, y = y_train, cv = 10)\n",
    "print(\"Accuracy: {:.2f} %\".format(accuracies.mean()*100))\n",
    "print(\"Standard Deviation: {:.2f} %\".format(accuracies.std()*100))\n",
    "\n",
    "accuracie_IG = cross_val_score(estimator = classifier, X = X_train_IG, y = y_train_IG, cv = 10)\n",
    "print(\"IG Accuracy: {:.2f} %\".format(accuracie_IG.mean()*100))\n",
    "print(\"IG Standard Deviation: {:.2f} %\".format(accuracie_IG.std()*100))"
   ]
  },
  {
   "cell_type": "markdown",
   "id": "526f8c32",
   "metadata": {
    "id": "526f8c32"
   },
   "source": [
    "### Metrics calculation"
   ]
  },
  {
   "cell_type": "code",
   "execution_count": 45,
   "id": "3C15Wih0mGCO",
   "metadata": {
    "colab": {
     "base_uri": "https://localhost:8080/"
    },
    "executionInfo": {
     "elapsed": 195,
     "status": "ok",
     "timestamp": 1667358994971,
     "user": {
      "displayName": "Jasmin Patel",
      "userId": "13267304316818562887"
     },
     "user_tz": 240
    },
    "id": "3C15Wih0mGCO",
    "outputId": "12f940f4-1d13-4de8-a3f8-5eed21e14786"
   },
   "outputs": [
    {
     "name": "stdout",
     "output_type": "stream",
     "text": [
      "[0 2 2 0 1]\n",
      "[0 0 1 2 2]\n",
      "[9 3 9 4 2]\n",
      "[23 27 20 26 27]\n",
      "[0 1 6 6 0]\n",
      "[2 2 1 4 4]\n",
      "[7 1 9 2 0]\n",
      "[23 27 20 26 27]\n"
     ]
    }
   ],
   "source": [
    "FP = cm.sum(axis=0) - np.diag(cm)  \n",
    "FN = cm.sum(axis=1) - np.diag(cm)\n",
    "TP = np.diag(cm)\n",
    "TN = cm.sum() - (FP + FN + TP)\n",
    "\n",
    "print(FP)\n",
    "print(FN)\n",
    "print(TP)\n",
    "print(TN)\n",
    "\n",
    "FP_IG = cm_IG.sum(axis=0) - np.diag(cm_IG)  \n",
    "FN_IG = cm_IG.sum(axis=1) - np.diag(cm_IG)\n",
    "TP_IG = np.diag(cm_IG)\n",
    "TN_IG = cm_IG.sum() - (FP + FN + TP)\n",
    "\n",
    "print(FP_IG)\n",
    "print(FN_IG)\n",
    "print(TP_IG)\n",
    "print(TN_IG)\n"
   ]
  },
  {
   "cell_type": "code",
   "execution_count": 48,
   "id": "m-mZvsOFWBR7",
   "metadata": {
    "executionInfo": {
     "elapsed": 7,
     "status": "ok",
     "timestamp": 1667359087182,
     "user": {
      "displayName": "Jasmin Patel",
      "userId": "13267304316818562887"
     },
     "user_tz": 240
    },
    "id": "m-mZvsOFWBR7"
   },
   "outputs": [
    {
     "name": "stderr",
     "output_type": "stream",
     "text": [
      "/var/folders/s4/mxcwk6cn2rx5fs761lbtp9zh0000gn/T/ipykernel_35196/1211481786.py:33: RuntimeWarning: invalid value encountered in true_divide\n",
      "  FDR_IG = FP_IG/(TP_IG+FP_IG)\n"
     ]
    }
   ],
   "source": [
    "# Sensitivity, hit rate, recall, or true positive rate\n",
    "TPR = TP/(TP+FN)\n",
    "# Specificity or true negative rate\n",
    "TNR = TN/(TN+FP) \n",
    "# Precision or positive predictive value\n",
    "PPV = TP/(TP+FP)\n",
    "# Negative predictive value\n",
    "NPV = TN/(TN+FN)\n",
    "# Fall out or false positive rate\n",
    "FPR = FP/(FP+TN)\n",
    "# False negative rate\n",
    "FNR = FN/(TP+FN)\n",
    "# False discovery rate\n",
    "FDR = FP/(TP+FP)\n",
    "\n",
    "# Overall accuracy\n",
    "ACC = (TP+TN)/(TP+FP+FN+TN)\n",
    "\n",
    "\n",
    "# Sensitivity, hit rate, recall, or true positive rate\n",
    "TPR_IG = TP_IG/(TP_IG+FN_IG)\n",
    "# Specificity or true negative rate\n",
    "TNR_IG = TN_IG/(TN_IG+FP_IG) \n",
    "# Precision or positive predictive value\n",
    "PPV_IG = TP_IG/(TP+FP_IG)\n",
    "# Negative predictive value\n",
    "NPV_IG = TN_IG/(TN_IG+FN_IG)\n",
    "# Fall out or false positive rate\n",
    "FPR_IG = FP_IG/(FP_IG+TN_IG)\n",
    "# False negative rate\n",
    "FNR_IG = FN_IG/(TP_IG+FN_IG)\n",
    "# False discovery rate\n",
    "FDR_IG = FP_IG/(TP_IG+FP_IG)\n",
    "\n",
    "# Overall accuracy\n",
    "ACC_IG = (TP_IG+TN_IG)/(TP_IG+FP_IG+FN_IG+TN_IG)\n"
   ]
  },
  {
   "cell_type": "code",
   "execution_count": 50,
   "id": "zxNI5ZR6WKcp",
   "metadata": {
    "colab": {
     "base_uri": "https://localhost:8080/"
    },
    "executionInfo": {
     "elapsed": 196,
     "status": "ok",
     "timestamp": 1667359186192,
     "user": {
      "displayName": "Jasmin Patel",
      "userId": "13267304316818562887"
     },
     "user_tz": 240
    },
    "id": "zxNI5ZR6WKcp",
    "outputId": "9f276853-ad87-41d3-c7c5-682370492867"
   },
   "outputs": [
    {
     "name": "stdout",
     "output_type": "stream",
     "text": [
      "PPV:[1.         0.6        0.81818182 1.         0.66666667]\n",
      "NPV:[1.         1.         0.95238095 0.92857143 0.93103448]\n",
      "Sensitivity:[1.         1.         0.9        0.66666667 0.5       ]\n",
      "Specificity:[1.         0.93103448 0.90909091 1.         0.96428571]\n",
      "\n",
      "\n",
      "Accuracy: [1.      0.9375  0.90625 0.9375  0.90625]\n",
      "\n",
      "\n",
      "\n",
      "PPV_IG:[0.77777778 0.25       0.6        0.2        0.        ]\n",
      "NPV_IG:[0.92       0.93103448 0.95238095 0.86666667 0.87096774]\n",
      "Sensitivity_IG:[0.77777778 0.33333333 0.9        0.33333333 0.        ]\n",
      "Specificity_IG:[1.         0.96428571 0.76923077 0.8125     1.        ]\n",
      "\n",
      "\n",
      "Accuracy_IG: [0.9375     0.90322581 0.80555556 0.73684211 0.87096774]\n"
     ]
    }
   ],
   "source": [
    "print(\"PPV:{}\\nNPV:{}\\nSensitivity:{}\\nSpecificity:{}\".format(PPV, NPV, TPR, TNR))\n",
    "print('\\n')\n",
    "print(\"Accuracy:\",ACC)\n",
    "\n",
    "print(\"\\n\\n\\nPPV_IG:{}\\nNPV_IG:{}\\nSensitivity_IG:{}\\nSpecificity_IG:{}\".format(PPV_IG, NPV_IG, TPR_IG, TNR_IG))\n",
    "print('\\n')\n",
    "print(\"Accuracy_IG:\",ACC_IG)"
   ]
  },
  {
   "cell_type": "code",
   "execution_count": 53,
   "id": "2231d7b4",
   "metadata": {},
   "outputs": [
    {
     "name": "stdout",
     "output_type": "stream",
     "text": [
      "PPV:0.82\n",
      "NPV:0.96\n",
      "Sensitivity:0.81\n",
      "Specificity:0.96\n",
      "Accuracy:0.94\n",
      "\n",
      "PPV:0.37\n",
      "NPV:0.91\n",
      "Sensitivity:0.47\n",
      "Specificity:0.91\n",
      "Accuracy:0.85\n"
     ]
    }
   ],
   "source": [
    "avg_PPV  = np.average(PPV, axis=None, weights=None, returned=False)\n",
    "avg_NPV  = np.average(NPV, axis=None, weights=None, returned=False)\n",
    "avg_TPR  = np.average(TPR, axis=None, weights=None, returned=False)\n",
    "avg_TNR  = np.average(TNR, axis=None, weights=None, returned=False)\n",
    "avg_ACC  = np.average(ACC, axis=None, weights=None, returned=False)\n",
    "print(\"PPV:{:.2f}\\nNPV:{:.2f}\\nSensitivity:{:.2f}\\nSpecificity:{:.2f}\\nAccuracy:{:.2f}\".format(avg_PPV, avg_NPV, avg_TPR, avg_TNR, avg_ACC))\n",
    "\n",
    "avg_PPV_IG  = np.average(PPV_IG, axis=None, weights=None, returned=False)\n",
    "avg_NPV_IG  = np.average(NPV_IG, axis=None, weights=None, returned=False)\n",
    "avg_TPR_IG  = np.average(TPR_IG, axis=None, weights=None, returned=False)\n",
    "avg_TNR_IG  = np.average(TNR_IG, axis=None, weights=None, returned=False)\n",
    "avg_ACC_IG  = np.average(ACC_IG, axis=None, weights=None, returned=False)\n",
    "print(\"\\nPPV:{:.2f}\\nNPV:{:.2f}\\nSensitivity:{:.2f}\\nSpecificity:{:.2f}\\nAccuracy:{:.2f}\".format(avg_PPV_IG, avg_NPV_IG, avg_TPR_IG, avg_TNR_IG, avg_ACC_IG))"
   ]
  },
  {
   "cell_type": "code",
   "execution_count": null,
   "id": "00107110",
   "metadata": {},
   "outputs": [],
   "source": []
  }
 ],
 "metadata": {
  "colab": {
   "collapsed_sections": [],
   "provenance": []
  },
  "kernelspec": {
   "display_name": "Python 3.8.13 ('tensor-metal')",
   "language": "python",
   "name": "python3"
  },
  "language_info": {
   "codemirror_mode": {
    "name": "ipython",
    "version": 3
   },
   "file_extension": ".py",
   "mimetype": "text/x-python",
   "name": "python",
   "nbconvert_exporter": "python",
   "pygments_lexer": "ipython3",
   "version": "3.8.13"
  },
  "vscode": {
   "interpreter": {
    "hash": "be39e6169c1b31d00ea7efb485c56e5eb1013badc1c0c29800ed58f373877fa8"
   }
  }
 },
 "nbformat": 4,
 "nbformat_minor": 5
}
